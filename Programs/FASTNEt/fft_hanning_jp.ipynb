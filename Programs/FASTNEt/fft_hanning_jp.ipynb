{
 "cells": [
  {
   "cell_type": "code",
   "execution_count": 1,
   "metadata": {
    "collapsed": false
   },
   "outputs": [
    {
     "name": "stderr",
     "output_type": "stream",
     "text": [
      "/Users/jeff/anaconda/lib/python2.7/site-packages/matplotlib/font_manager.py:273: UserWarning: Matplotlib is building the font cache using fc-list. This may take a moment.\n",
      "  warnings.warn('Matplotlib is building the font cache using fc-list. This may take a moment.')\n"
     ]
    }
   ],
   "source": [
    "from scipy.io import netcdf\n",
    "import numpy as np\n",
    "import matplotlib.pyplot as plt\n",
    "from __future__ import division"
   ]
  },
  {
   "cell_type": "code",
   "execution_count": 2,
   "metadata": {
    "collapsed": true
   },
   "outputs": [],
   "source": [
    "def readMODELnc(filename, var):\n",
    "    \"\"\" \n",
    "    Read a variable from a NEMO output (netcdf 3 or 4)\n",
    "    \"\"\"\n",
    "\n",
    "    f = netcdf.netcdf_file(filename, 'r')\n",
    "    data = f.variables[var].data\n",
    "    f.close()\n",
    "\n",
    "    return data\n"
   ]
  },
  {
   "cell_type": "code",
   "execution_count": 3,
   "metadata": {
    "collapsed": true
   },
   "outputs": [],
   "source": [
    "path = 'Moorings_' # Jeff's path for the downloaded data\n",
    "location ='ST2'"
   ]
  },
  {
   "cell_type": "code",
   "execution_count": 12,
   "metadata": {
    "collapsed": false
   },
   "outputs": [
    {
     "name": "stdout",
     "output_type": "stream",
     "text": [
      "51\n"
     ]
    },
    {
     "ename": "ValueError",
     "evalue": "array of sample points is empty",
     "output_type": "error",
     "traceback": [
      "\u001b[0;31m---------------------------------------------------------------------------\u001b[0m",
      "\u001b[0;31mValueError\u001b[0m                                Traceback (most recent call last)",
      "\u001b[0;32m<ipython-input-12-07f072f93b24>\u001b[0m in \u001b[0;36m<module>\u001b[0;34m()\u001b[0m\n\u001b[1;32m     15\u001b[0m     \u001b[0mmask\u001b[0m \u001b[0;34m=\u001b[0m \u001b[0mnp\u001b[0m\u001b[0;34m.\u001b[0m\u001b[0misfinite\u001b[0m\u001b[0;34m(\u001b[0m\u001b[0mx\u001b[0m\u001b[0;34m)\u001b[0m\u001b[0;34m\u001b[0m\u001b[0m\n\u001b[1;32m     16\u001b[0m     \u001b[0mxi\u001b[0m \u001b[0;34m=\u001b[0m \u001b[0mnp\u001b[0m\u001b[0;34m.\u001b[0m\u001b[0marange\u001b[0m\u001b[0;34m(\u001b[0m\u001b[0mlen\u001b[0m\u001b[0;34m(\u001b[0m\u001b[0mx\u001b[0m\u001b[0;34m)\u001b[0m\u001b[0;34m)\u001b[0m\u001b[0;34m\u001b[0m\u001b[0m\n\u001b[0;32m---> 17\u001b[0;31m     \u001b[0mxfiltered\u001b[0m \u001b[0;34m=\u001b[0m \u001b[0mnp\u001b[0m\u001b[0;34m.\u001b[0m\u001b[0minterp\u001b[0m\u001b[0;34m(\u001b[0m\u001b[0mxi\u001b[0m\u001b[0;34m,\u001b[0m \u001b[0mxi\u001b[0m\u001b[0;34m[\u001b[0m\u001b[0mmask\u001b[0m\u001b[0;34m]\u001b[0m\u001b[0;34m,\u001b[0m \u001b[0mx\u001b[0m\u001b[0;34m[\u001b[0m\u001b[0mmask\u001b[0m\u001b[0;34m]\u001b[0m\u001b[0;34m)\u001b[0m\u001b[0;34m\u001b[0m\u001b[0m\n\u001b[0m\u001b[1;32m     18\u001b[0m     \u001b[0mtemp_mod_noNaN\u001b[0m\u001b[0;34m[\u001b[0m\u001b[0mii\u001b[0m\u001b[0;34m,\u001b[0m\u001b[0;34m:\u001b[0m\u001b[0;34m]\u001b[0m \u001b[0;34m=\u001b[0m \u001b[0mxfiltered\u001b[0m\u001b[0;34m\u001b[0m\u001b[0m\n\u001b[1;32m     19\u001b[0m     \u001b[0mx\u001b[0m \u001b[0;34m=\u001b[0m \u001b[0mtemp_obs\u001b[0m\u001b[0;34m[\u001b[0m\u001b[0mii\u001b[0m\u001b[0;34m,\u001b[0m\u001b[0;34m:\u001b[0m\u001b[0;34m]\u001b[0m\u001b[0;34m\u001b[0m\u001b[0m\n",
      "\u001b[0;32m/Users/jeff/anaconda/lib/python2.7/site-packages/numpy/lib/function_base.pyc\u001b[0m in \u001b[0;36minterp\u001b[0;34m(x, xp, fp, left, right, period)\u001b[0m\n\u001b[1;32m   1672\u001b[0m             \u001b[0;32mreturn\u001b[0m \u001b[0mcompiled_interp\u001b[0m\u001b[0;34m(\u001b[0m\u001b[0;34m[\u001b[0m\u001b[0mx\u001b[0m\u001b[0;34m]\u001b[0m\u001b[0;34m,\u001b[0m \u001b[0mxp\u001b[0m\u001b[0;34m,\u001b[0m \u001b[0mfp\u001b[0m\u001b[0;34m,\u001b[0m \u001b[0mleft\u001b[0m\u001b[0;34m,\u001b[0m \u001b[0mright\u001b[0m\u001b[0;34m)\u001b[0m\u001b[0;34m.\u001b[0m\u001b[0mitem\u001b[0m\u001b[0;34m(\u001b[0m\u001b[0;34m)\u001b[0m\u001b[0;34m\u001b[0m\u001b[0m\n\u001b[1;32m   1673\u001b[0m         \u001b[0;32melse\u001b[0m\u001b[0;34m:\u001b[0m\u001b[0;34m\u001b[0m\u001b[0m\n\u001b[0;32m-> 1674\u001b[0;31m             \u001b[0;32mreturn\u001b[0m \u001b[0mcompiled_interp\u001b[0m\u001b[0;34m(\u001b[0m\u001b[0mx\u001b[0m\u001b[0;34m,\u001b[0m \u001b[0mxp\u001b[0m\u001b[0;34m,\u001b[0m \u001b[0mfp\u001b[0m\u001b[0;34m,\u001b[0m \u001b[0mleft\u001b[0m\u001b[0;34m,\u001b[0m \u001b[0mright\u001b[0m\u001b[0;34m)\u001b[0m\u001b[0;34m\u001b[0m\u001b[0m\n\u001b[0m\u001b[1;32m   1675\u001b[0m     \u001b[0;32melse\u001b[0m\u001b[0;34m:\u001b[0m\u001b[0;34m\u001b[0m\u001b[0m\n\u001b[1;32m   1676\u001b[0m         \u001b[0;32mif\u001b[0m \u001b[0mperiod\u001b[0m \u001b[0;34m==\u001b[0m \u001b[0;36m0\u001b[0m\u001b[0;34m:\u001b[0m\u001b[0;34m\u001b[0m\u001b[0m\n",
      "\u001b[0;31mValueError\u001b[0m: array of sample points is empty"
     ]
    }
   ],
   "source": [
    "filename = path+'AMM60/mooring_'+location+'.nc'\n",
    "temp_obs = readMODELnc(filename,'temp_obs')\n",
    "temp_mod = readMODELnc(filename,'temp_mod')\n",
    "depth = readMODELnc(filename,'depth')\n",
    "\n",
    "mask = np.isfinite(temp_mod)\n",
    "xi = np.arange(len(temp_mod))\n",
    "\n",
    "print(temp_mod.shape[0])\n",
    "\n",
    "temp_mod_noNaN = np.zeros((temp_mod.shape[0]-1,temp_mod.shape[1]))\n",
    "temp_obs_noNaN = np.zeros((temp_mod.shape[0]-1,temp_mod.shape[1]))\n",
    "for ii in range(0,temp_mod.shape[0]-1):\n",
    "    x = temp_mod[ii,:]\n",
    "    mask = np.isfinite(x)\n",
    "    xi = np.arange(len(x))\n",
    "    xfiltered = np.interp(xi, xi[mask], x[mask])\n",
    "    temp_mod_noNaN[ii,:] = xfiltered\n",
    "    x = temp_obs[ii,:]\n",
    "    mask = np.isfinite(x)\n",
    "    xi = np.arange(len(x))\n",
    "    xfiltered = np.interp(xi, xi[mask], x[mask])\n",
    "    temp_obs_noNaN[ii,:] = xfiltered\n",
    "\n",
    "\n",
    "depth_thermocline_mod = depth[np.argmin(abs(temp_mod_noNaN-13),axis=0)]\n",
    "depth_thermocline_obs = depth[np.argmin(abs(temp_obs_noNaN-13),axis=0)]\n",
    "\n",
    "Tlen = len(depth_thermocline_mod)\n",
    "print(temp_mod.shape)\n",
    "print(depth_thermocline_mod.shape)"
   ]
  },
  {
   "cell_type": "code",
   "execution_count": 11,
   "metadata": {
    "collapsed": false
   },
   "outputs": [
    {
     "ename": "NameError",
     "evalue": "name 'Tlen' is not defined",
     "output_type": "error",
     "traceback": [
      "\u001b[0;31m---------------------------------------------------------------------------\u001b[0m",
      "\u001b[0;31mNameError\u001b[0m                                 Traceback (most recent call last)",
      "\u001b[0;32m<ipython-input-11-5150f9b181ae>\u001b[0m in \u001b[0;36m<module>\u001b[0;34m()\u001b[0m\n\u001b[1;32m      2\u001b[0m \u001b[0;34m\u001b[0m\u001b[0m\n\u001b[1;32m      3\u001b[0m \u001b[0mFs\u001b[0m \u001b[0;34m=\u001b[0m \u001b[0mnp\u001b[0m\u001b[0;34m.\u001b[0m\u001b[0mdivide\u001b[0m\u001b[0;34m(\u001b[0m\u001b[0;36m1.\u001b[0m\u001b[0;34m,\u001b[0m\u001b[0;36m3600.\u001b[0m\u001b[0;34m)\u001b[0m \u001b[0;31m# 1 cycle per hour, so every 3600 sec.\u001b[0m\u001b[0;34m\u001b[0m\u001b[0m\n\u001b[0;32m----> 4\u001b[0;31m \u001b[0mL\u001b[0m \u001b[0;34m=\u001b[0m \u001b[0mTlen\u001b[0m\u001b[0;34m\u001b[0m\u001b[0m\n\u001b[0m\u001b[1;32m      5\u001b[0m \u001b[0mN\u001b[0m \u001b[0;34m=\u001b[0m \u001b[0mnp\u001b[0m\u001b[0;34m.\u001b[0m\u001b[0mceil\u001b[0m\u001b[0;34m(\u001b[0m\u001b[0mnp\u001b[0m\u001b[0;34m.\u001b[0m\u001b[0mlog2\u001b[0m\u001b[0;34m(\u001b[0m\u001b[0mL\u001b[0m\u001b[0;34m)\u001b[0m\u001b[0;34m)\u001b[0m\u001b[0;34m\u001b[0m\u001b[0m\n\u001b[1;32m      6\u001b[0m \u001b[0mf\u001b[0m \u001b[0;34m=\u001b[0m \u001b[0mnp\u001b[0m\u001b[0;34m.\u001b[0m\u001b[0mmultiply\u001b[0m\u001b[0;34m(\u001b[0m\u001b[0mFs\u001b[0m\u001b[0;34m/\u001b[0m\u001b[0mnp\u001b[0m\u001b[0;34m.\u001b[0m\u001b[0mpower\u001b[0m\u001b[0;34m(\u001b[0m\u001b[0;36m2\u001b[0m\u001b[0;34m,\u001b[0m\u001b[0mN\u001b[0m\u001b[0;34m)\u001b[0m\u001b[0;34m,\u001b[0m\u001b[0mrange\u001b[0m\u001b[0;34m(\u001b[0m\u001b[0;36m0\u001b[0m\u001b[0;34m,\u001b[0m\u001b[0mint\u001b[0m\u001b[0;34m(\u001b[0m\u001b[0mnp\u001b[0m\u001b[0;34m.\u001b[0m\u001b[0mpower\u001b[0m\u001b[0;34m(\u001b[0m\u001b[0;36m2\u001b[0m\u001b[0;34m,\u001b[0m\u001b[0mN\u001b[0m\u001b[0;34m-\u001b[0m\u001b[0;36m1\u001b[0m\u001b[0;34m)\u001b[0m\u001b[0;34m-\u001b[0m\u001b[0;36m1\u001b[0m\u001b[0;34m)\u001b[0m\u001b[0;34m)\u001b[0m\u001b[0;34m)\u001b[0m\u001b[0;34m\u001b[0m\u001b[0m\n",
      "\u001b[0;31mNameError\u001b[0m: name 'Tlen' is not defined"
     ]
    }
   ],
   "source": [
    "## source https://fr.mathworks.com/matlabcentral/answers/64114-fft-code-on-time-series\n",
    "\n",
    "Fs = np.divide(1.,3600.) # 1 cycle per hour, so every 3600 sec.\n",
    "L = Tlen\n",
    "N = np.ceil(np.log2(L))\n",
    "f = np.multiply(Fs/np.power(2,N),range(0,int(np.power(2,N-1)-1)))\n",
    "\n",
    "win_hanning = np.hanning(L)\n",
    "inv_hanning = np.sqrt(np.sum(np.square(win_hanning[:np.floor(L/2)],win_hanning[:np.floor(L/2)])))\n",
    "\n",
    "mod_norm = np.divide(np.multiply(win_hanning,depth_thermocline_mod),inv_hanning)\n",
    "obs_norm = np.divide(np.multiply(win_hanning,depth_thermocline_obs),inv_hanning)\n",
    "\n",
    "FFTmod = np.fft.fft(mod_norm,int(np.power(2,N)))\n",
    "fft_real_mod_amm60 = np.multiply(FFTmod,np.conj(FFTmod))\n",
    "FFTobs = np.fft.fft(obs_norm,int(np.power(2,N)))\n",
    "fft_real_obs_amm60 = np.multiply(FFTobs,np.conj(FFTobs))\n",
    "\n",
    "famm60 = f\n",
    "fftamm60 = fft_real_mod_amm60[0:int(np.power(2,N-1)-1)]\n",
    "fftobsamm60 = fft_real_obs_amm60[0:int(np.power(2,N-1)-1)]\n",
    "\n",
    "%matplotlib inline\n",
    "plt.semilogy(famm60,fftobsamm60,color='b')\n",
    "plt.hold()\n",
    "plt.semilogy(famm60,fftamm60,color='r')\n",
    "\n",
    "print(fftamm60.shape)\n"
   ]
  },
  {
   "cell_type": "code",
   "execution_count": null,
   "metadata": {
    "collapsed": false
   },
   "outputs": [],
   "source": [
    "filename = path+'AMM7/mooring_'+location+'.nc'\n",
    "temp_obs = readMODELnc(filename,'temp_obs')\n",
    "temp_mod = readMODELnc(filename,'temp_mod')\n",
    "depth = readMODELnc(filename,'depth')\n",
    "\n",
    "mask = np.isfinite(temp_mod)\n",
    "xi = np.arange(len(temp_mod))\n",
    "#xfiltered = np.inte(xi, xi[mask], temp_mod[mask])\n",
    "\n",
    "print(temp_mod.shape[0])\n",
    "\n",
    "temp_mod_noNaN = np.zeros((temp_mod.shape[0]-1,temp_mod.shape[1]))\n",
    "temp_obs_noNaN = np.zeros((temp_mod.shape[0]-1,temp_mod.shape[1]))\n",
    "for ii in range(0,47):\n",
    "    x = temp_mod[ii,:]\n",
    "    mask = np.isfinite(x)\n",
    "    xi = np.arange(len(x))\n",
    "    xfiltered = np.interp(xi, xi[mask], x[mask])\n",
    "    temp_mod_noNaN[ii,:] = xfiltered\n",
    "    x = temp_obs[ii,:]\n",
    "    mask = np.isfinite(x)\n",
    "    xi = np.arange(len(x))\n",
    "    xfiltered = np.interp(xi, xi[mask], x[mask])\n",
    "    temp_obs_noNaN[ii,:] = xfiltered\n",
    "\n",
    "\n",
    "depth_thermocline_mod = depth[np.argmin(abs(temp_mod_noNaN-13),axis=0)]\n",
    "depth_thermocline_obs = depth[np.argmin(abs(temp_obs_noNaN-13),axis=0)]\n",
    "\n",
    "Tlen = len(depth_thermocline_mod)"
   ]
  },
  {
   "cell_type": "code",
   "execution_count": 5,
   "metadata": {
    "collapsed": false
   },
   "outputs": [
    {
     "ename": "NameError",
     "evalue": "name 'Tlen' is not defined",
     "output_type": "error",
     "traceback": [
      "\u001b[0;31m---------------------------------------------------------------------------\u001b[0m",
      "\u001b[0;31mNameError\u001b[0m                                 Traceback (most recent call last)",
      "\u001b[0;32m<ipython-input-5-fe03c3eebf8a>\u001b[0m in \u001b[0;36m<module>\u001b[0;34m()\u001b[0m\n\u001b[1;32m      2\u001b[0m \u001b[0;34m\u001b[0m\u001b[0m\n\u001b[1;32m      3\u001b[0m \u001b[0mFs\u001b[0m \u001b[0;34m=\u001b[0m \u001b[0mnp\u001b[0m\u001b[0;34m.\u001b[0m\u001b[0mdivide\u001b[0m\u001b[0;34m(\u001b[0m\u001b[0;36m1.\u001b[0m\u001b[0;34m,\u001b[0m\u001b[0;36m3600.\u001b[0m\u001b[0;34m)\u001b[0m \u001b[0;31m# 1 cycle per hour, so every 3600 sec.\u001b[0m\u001b[0;34m\u001b[0m\u001b[0m\n\u001b[0;32m----> 4\u001b[0;31m \u001b[0mL\u001b[0m \u001b[0;34m=\u001b[0m \u001b[0mTlen\u001b[0m\u001b[0;34m\u001b[0m\u001b[0m\n\u001b[0m\u001b[1;32m      5\u001b[0m \u001b[0mN\u001b[0m \u001b[0;34m=\u001b[0m \u001b[0mnp\u001b[0m\u001b[0;34m.\u001b[0m\u001b[0mceil\u001b[0m\u001b[0;34m(\u001b[0m\u001b[0mnp\u001b[0m\u001b[0;34m.\u001b[0m\u001b[0mlog2\u001b[0m\u001b[0;34m(\u001b[0m\u001b[0mL\u001b[0m\u001b[0;34m)\u001b[0m\u001b[0;34m)\u001b[0m\u001b[0;34m\u001b[0m\u001b[0m\n\u001b[1;32m      6\u001b[0m \u001b[0mf\u001b[0m \u001b[0;34m=\u001b[0m \u001b[0mnp\u001b[0m\u001b[0;34m.\u001b[0m\u001b[0mmultiply\u001b[0m\u001b[0;34m(\u001b[0m\u001b[0mFs\u001b[0m\u001b[0;34m/\u001b[0m\u001b[0mnp\u001b[0m\u001b[0;34m.\u001b[0m\u001b[0mpower\u001b[0m\u001b[0;34m(\u001b[0m\u001b[0;36m2\u001b[0m\u001b[0;34m,\u001b[0m\u001b[0mN\u001b[0m\u001b[0;34m)\u001b[0m\u001b[0;34m,\u001b[0m\u001b[0mrange\u001b[0m\u001b[0;34m(\u001b[0m\u001b[0;36m0\u001b[0m\u001b[0;34m,\u001b[0m\u001b[0mint\u001b[0m\u001b[0;34m(\u001b[0m\u001b[0mnp\u001b[0m\u001b[0;34m.\u001b[0m\u001b[0mpower\u001b[0m\u001b[0;34m(\u001b[0m\u001b[0;36m2\u001b[0m\u001b[0;34m,\u001b[0m\u001b[0mN\u001b[0m\u001b[0;34m-\u001b[0m\u001b[0;36m1\u001b[0m\u001b[0;34m)\u001b[0m\u001b[0;34m-\u001b[0m\u001b[0;36m1\u001b[0m\u001b[0;34m)\u001b[0m\u001b[0;34m)\u001b[0m\u001b[0;34m)\u001b[0m\u001b[0;34m\u001b[0m\u001b[0m\n",
      "\u001b[0;31mNameError\u001b[0m: name 'Tlen' is not defined"
     ]
    }
   ],
   "source": [
    "## source https://fr.mathworks.com/matlabcentral/answers/64114-fft-code-on-time-series\n",
    "\n",
    "Fs = np.divide(1.,3600.) # 1 cycle per hour, so every 3600 sec.\n",
    "L = Tlen\n",
    "N = np.ceil(np.log2(L))\n",
    "f = np.multiply(Fs/np.power(2,N),range(0,int(np.power(2,N-1)-1)))\n",
    "\n",
    "win_hanning = np.hanning(L)\n",
    "inv_hanning = np.sqrt(np.sum(np.square(win_hanning[:np.floor(L/2)],win_hanning[:np.floor(L/2)])))\n",
    "\n",
    "\n",
    "mod_norm = np.divide(np.multiply(win_hanning,depth_thermocline_mod),inv_hanning)\n",
    "obs_norm = np.divide(np.multiply(win_hanning,depth_thermocline_obs),inv_hanning)\n",
    "\n",
    "FFTmod = np.fft.fft(mod_norm,int(np.power(2,N)))\n",
    "fft_real_mod_amm7 = np.multiply(FFTmod,np.conj(FFTmod))\n",
    "FFTobs = np.fft.fft(obs_norm,int(np.power(2,N)))\n",
    "fft_real_obs_amm7 = np.multiply(FFTobs,np.conj(FFTobs))\n",
    "\n",
    "\n",
    "famm7 = f\n",
    "fftamm7 = fft_real_mod_amm7[0:int(np.power(2,N-1)-1)]\n",
    "fftobsamm7 = fft_real_obs_amm7[0:int(np.power(2,N-1)-1)]\n",
    "\n",
    "%matplotlib inline\n",
    "plt.semilogy(famm7,fftobsamm7,color='b')\n",
    "plt.hold()\n",
    "plt.semilogy(famm7,fftamm7,color='r')\n"
   ]
  },
  {
   "cell_type": "code",
   "execution_count": 6,
   "metadata": {
    "collapsed": false
   },
   "outputs": [
    {
     "ename": "ValueError",
     "evalue": "array of sample points is empty",
     "output_type": "error",
     "traceback": [
      "\u001b[0;31m---------------------------------------------------------------------------\u001b[0m",
      "\u001b[0;31mValueError\u001b[0m                                Traceback (most recent call last)",
      "\u001b[0;32m<ipython-input-6-8d1da059505c>\u001b[0m in \u001b[0;36m<module>\u001b[0;34m()\u001b[0m\n\u001b[1;32m     13\u001b[0m     \u001b[0mmask\u001b[0m \u001b[0;34m=\u001b[0m \u001b[0mnp\u001b[0m\u001b[0;34m.\u001b[0m\u001b[0misfinite\u001b[0m\u001b[0;34m(\u001b[0m\u001b[0mx\u001b[0m\u001b[0;34m)\u001b[0m\u001b[0;34m\u001b[0m\u001b[0m\n\u001b[1;32m     14\u001b[0m     \u001b[0mxi\u001b[0m \u001b[0;34m=\u001b[0m \u001b[0mnp\u001b[0m\u001b[0;34m.\u001b[0m\u001b[0marange\u001b[0m\u001b[0;34m(\u001b[0m\u001b[0mlen\u001b[0m\u001b[0;34m(\u001b[0m\u001b[0mx\u001b[0m\u001b[0;34m)\u001b[0m\u001b[0;34m)\u001b[0m\u001b[0;34m\u001b[0m\u001b[0m\n\u001b[0;32m---> 15\u001b[0;31m     \u001b[0mxfiltered\u001b[0m \u001b[0;34m=\u001b[0m \u001b[0mnp\u001b[0m\u001b[0;34m.\u001b[0m\u001b[0minterp\u001b[0m\u001b[0;34m(\u001b[0m\u001b[0mxi\u001b[0m\u001b[0;34m,\u001b[0m \u001b[0mxi\u001b[0m\u001b[0;34m[\u001b[0m\u001b[0mmask\u001b[0m\u001b[0;34m]\u001b[0m\u001b[0;34m,\u001b[0m \u001b[0mx\u001b[0m\u001b[0;34m[\u001b[0m\u001b[0mmask\u001b[0m\u001b[0;34m]\u001b[0m\u001b[0;34m)\u001b[0m\u001b[0;34m\u001b[0m\u001b[0m\n\u001b[0m\u001b[1;32m     16\u001b[0m     \u001b[0mtemp_mod_noNaN\u001b[0m\u001b[0;34m[\u001b[0m\u001b[0mii\u001b[0m\u001b[0;34m,\u001b[0m\u001b[0;34m:\u001b[0m\u001b[0;34m]\u001b[0m \u001b[0;34m=\u001b[0m \u001b[0mxfiltered\u001b[0m\u001b[0;34m\u001b[0m\u001b[0m\n\u001b[1;32m     17\u001b[0m     \u001b[0;31m#x = temp_obs[ii,:]\u001b[0m\u001b[0;34m\u001b[0m\u001b[0;34m\u001b[0m\u001b[0m\n",
      "\u001b[0;32m/Users/jeff/anaconda/lib/python2.7/site-packages/numpy/lib/function_base.pyc\u001b[0m in \u001b[0;36minterp\u001b[0;34m(x, xp, fp, left, right, period)\u001b[0m\n\u001b[1;32m   1672\u001b[0m             \u001b[0;32mreturn\u001b[0m \u001b[0mcompiled_interp\u001b[0m\u001b[0;34m(\u001b[0m\u001b[0;34m[\u001b[0m\u001b[0mx\u001b[0m\u001b[0;34m]\u001b[0m\u001b[0;34m,\u001b[0m \u001b[0mxp\u001b[0m\u001b[0;34m,\u001b[0m \u001b[0mfp\u001b[0m\u001b[0;34m,\u001b[0m \u001b[0mleft\u001b[0m\u001b[0;34m,\u001b[0m \u001b[0mright\u001b[0m\u001b[0;34m)\u001b[0m\u001b[0;34m.\u001b[0m\u001b[0mitem\u001b[0m\u001b[0;34m(\u001b[0m\u001b[0;34m)\u001b[0m\u001b[0;34m\u001b[0m\u001b[0m\n\u001b[1;32m   1673\u001b[0m         \u001b[0;32melse\u001b[0m\u001b[0;34m:\u001b[0m\u001b[0;34m\u001b[0m\u001b[0m\n\u001b[0;32m-> 1674\u001b[0;31m             \u001b[0;32mreturn\u001b[0m \u001b[0mcompiled_interp\u001b[0m\u001b[0;34m(\u001b[0m\u001b[0mx\u001b[0m\u001b[0;34m,\u001b[0m \u001b[0mxp\u001b[0m\u001b[0;34m,\u001b[0m \u001b[0mfp\u001b[0m\u001b[0;34m,\u001b[0m \u001b[0mleft\u001b[0m\u001b[0;34m,\u001b[0m \u001b[0mright\u001b[0m\u001b[0;34m)\u001b[0m\u001b[0;34m\u001b[0m\u001b[0m\n\u001b[0m\u001b[1;32m   1675\u001b[0m     \u001b[0;32melse\u001b[0m\u001b[0;34m:\u001b[0m\u001b[0;34m\u001b[0m\u001b[0m\n\u001b[1;32m   1676\u001b[0m         \u001b[0;32mif\u001b[0m \u001b[0mperiod\u001b[0m \u001b[0;34m==\u001b[0m \u001b[0;36m0\u001b[0m\u001b[0;34m:\u001b[0m\u001b[0;34m\u001b[0m\u001b[0m\n",
      "\u001b[0;31mValueError\u001b[0m: array of sample points is empty"
     ]
    }
   ],
   "source": [
    "filename = path+'NNA/mooring_'+location+'.nc'\n",
    "#temp_obs = readMODELnc(filename,'temp_obs')[:,3800:4200]\n",
    "temp_mod = readMODELnc(filename,'temp_mod')[:,3800:4200]\n",
    "depth = readMODELnc(filename,'depth')\n",
    "\n",
    "mask = np.isfinite(temp_mod)\n",
    "xi = np.arange(len(temp_mod))\n",
    "#xfiltered = np.inte(xi, xi[mask], temp_mod[mask])\n",
    "temp_mod_noNaN = np.zeros((temp_mod.shape[0]-1,temp_mod.shape[1]))\n",
    "temp_obs_noNaN = np.zeros((temp_mod.shape[0]-1,temp_mod.shape[1]))\n",
    "for ii in range(0,53):\n",
    "    x = temp_mod[ii,:]\n",
    "    mask = np.isfinite(x)\n",
    "    xi = np.arange(len(x))\n",
    "    xfiltered = np.interp(xi, xi[mask], x[mask])\n",
    "    temp_mod_noNaN[ii,:] = xfiltered\n",
    "    #x = temp_obs[ii,:]\n",
    "    #mask = np.isfinite(x)\n",
    "    #xi = np.arange(len(x))\n",
    "    #print(xi, xi[mask], x[mask])\n",
    "    #xfiltered = np.interp(xi, xi[mask], x[mask])\n",
    "    #temp_obs_noNaN[ii,:] = xfiltered\n",
    "\n",
    "\n",
    "depth_thermocline_mod = depth[np.argmin(abs(temp_mod_noNaN-13),axis=0)]\n",
    "#depth_thermocline_obs = depth[np.argmin(abs(temp_obs_noNaN-13),axis=0)]\n",
    "\n",
    "Tlen = len(depth_thermocline_mod)"
   ]
  },
  {
   "cell_type": "code",
   "execution_count": 7,
   "metadata": {
    "collapsed": false
   },
   "outputs": [
    {
     "ename": "NameError",
     "evalue": "name 'Tlen' is not defined",
     "output_type": "error",
     "traceback": [
      "\u001b[0;31m---------------------------------------------------------------------------\u001b[0m",
      "\u001b[0;31mNameError\u001b[0m                                 Traceback (most recent call last)",
      "\u001b[0;32m<ipython-input-7-ff05bcc9ab58>\u001b[0m in \u001b[0;36m<module>\u001b[0;34m()\u001b[0m\n\u001b[1;32m      2\u001b[0m \u001b[0;34m\u001b[0m\u001b[0m\n\u001b[1;32m      3\u001b[0m \u001b[0mFs\u001b[0m \u001b[0;34m=\u001b[0m \u001b[0mnp\u001b[0m\u001b[0;34m.\u001b[0m\u001b[0mdivide\u001b[0m\u001b[0;34m(\u001b[0m\u001b[0;36m1.\u001b[0m\u001b[0;34m,\u001b[0m\u001b[0;36m3600.\u001b[0m\u001b[0;34m)\u001b[0m \u001b[0;31m# 1 cycle per hour, so every 3600 sec.\u001b[0m\u001b[0;34m\u001b[0m\u001b[0m\n\u001b[0;32m----> 4\u001b[0;31m \u001b[0mL\u001b[0m \u001b[0;34m=\u001b[0m \u001b[0mTlen\u001b[0m\u001b[0;34m\u001b[0m\u001b[0m\n\u001b[0m\u001b[1;32m      5\u001b[0m \u001b[0mN\u001b[0m \u001b[0;34m=\u001b[0m \u001b[0mnp\u001b[0m\u001b[0;34m.\u001b[0m\u001b[0mceil\u001b[0m\u001b[0;34m(\u001b[0m\u001b[0mnp\u001b[0m\u001b[0;34m.\u001b[0m\u001b[0mlog2\u001b[0m\u001b[0;34m(\u001b[0m\u001b[0mL\u001b[0m\u001b[0;34m)\u001b[0m\u001b[0;34m)\u001b[0m\u001b[0;34m\u001b[0m\u001b[0m\n\u001b[1;32m      6\u001b[0m \u001b[0mf\u001b[0m \u001b[0;34m=\u001b[0m \u001b[0mnp\u001b[0m\u001b[0;34m.\u001b[0m\u001b[0mmultiply\u001b[0m\u001b[0;34m(\u001b[0m\u001b[0mFs\u001b[0m\u001b[0;34m/\u001b[0m\u001b[0mnp\u001b[0m\u001b[0;34m.\u001b[0m\u001b[0mpower\u001b[0m\u001b[0;34m(\u001b[0m\u001b[0;36m2\u001b[0m\u001b[0;34m,\u001b[0m\u001b[0mN\u001b[0m\u001b[0;34m)\u001b[0m\u001b[0;34m,\u001b[0m\u001b[0mrange\u001b[0m\u001b[0;34m(\u001b[0m\u001b[0;36m0\u001b[0m\u001b[0;34m,\u001b[0m\u001b[0mint\u001b[0m\u001b[0;34m(\u001b[0m\u001b[0mnp\u001b[0m\u001b[0;34m.\u001b[0m\u001b[0mpower\u001b[0m\u001b[0;34m(\u001b[0m\u001b[0;36m2\u001b[0m\u001b[0;34m,\u001b[0m\u001b[0mN\u001b[0m\u001b[0;34m-\u001b[0m\u001b[0;36m1\u001b[0m\u001b[0;34m)\u001b[0m\u001b[0;34m-\u001b[0m\u001b[0;36m1\u001b[0m\u001b[0;34m)\u001b[0m\u001b[0;34m)\u001b[0m\u001b[0;34m)\u001b[0m\u001b[0;34m\u001b[0m\u001b[0m\n",
      "\u001b[0;31mNameError\u001b[0m: name 'Tlen' is not defined"
     ]
    }
   ],
   "source": [
    "## source https://fr.mathworks.com/matlabcentral/answers/64114-fft-code-on-time-series\n",
    "\n",
    "Fs = np.divide(1.,3600.) # 1 cycle per hour, so every 3600 sec.\n",
    "L = Tlen\n",
    "N = np.ceil(np.log2(L))\n",
    "f = np.multiply(Fs/np.power(2,N),range(0,int(np.power(2,N-1)-1)))\n",
    "\n",
    "win_hanning = np.hanning(L)\n",
    "inv_hanning = np.sqrt(np.sum(np.square(win_hanning[:np.floor(L/2)],win_hanning[:np.floor(L/2)])))\n",
    "\n",
    "\n",
    "mod_norm = np.divide(np.multiply(win_hanning,depth_thermocline_mod),inv_hanning)\n",
    "\n",
    "FFTmod = np.fft.fft(mod_norm,int(np.power(2,N)))\n",
    "fft_real_mod_nna = np.multiply(FFTmod,np.conj(FFTmod))\n",
    "#FFTobs = np.fft.fft(depth_thermocline_obs,int(np.power(2,N)))\n",
    "#fft_real_obs_nna = np.multiply(FFTobs,np.conj(FFTobs))\n",
    "\n",
    "\n",
    "fnna = f\n",
    "fftnna = fft_real_mod_nna[0:int(np.power(2,N-1)-1)]\n",
    "#fftobsnna = fft_real_obs_nna[0:int(np.power(2,N-1)-1)]\n",
    "\n",
    "%matplotlib inline\n",
    "#plt.semilogy(fnna,fftobsnna,color='b')\n",
    "plt.hold()\n",
    "plt.semilogy(fnna,fftnna,color='r')"
   ]
  },
  {
   "cell_type": "code",
   "execution_count": 8,
   "metadata": {
    "collapsed": false
   },
   "outputs": [
    {
     "ename": "NameError",
     "evalue": "name 'famm60' is not defined",
     "output_type": "error",
     "traceback": [
      "\u001b[0;31m---------------------------------------------------------------------------\u001b[0m",
      "\u001b[0;31mNameError\u001b[0m                                 Traceback (most recent call last)",
      "\u001b[0;32m<ipython-input-8-fa7a4e2e6ef1>\u001b[0m in \u001b[0;36m<module>\u001b[0;34m()\u001b[0m\n\u001b[1;32m      2\u001b[0m \u001b[0;31m#plt.semilogy(fnna,fftobsnna,color='g')\u001b[0m\u001b[0;34m\u001b[0m\u001b[0;34m\u001b[0m\u001b[0m\n\u001b[1;32m      3\u001b[0m \u001b[0mplt\u001b[0m\u001b[0;34m.\u001b[0m\u001b[0mhold\u001b[0m\u001b[0;34m(\u001b[0m\u001b[0;34m)\u001b[0m\u001b[0;34m\u001b[0m\u001b[0m\n\u001b[0;32m----> 4\u001b[0;31m \u001b[0mplt\u001b[0m\u001b[0;34m.\u001b[0m\u001b[0msemilogy\u001b[0m\u001b[0;34m(\u001b[0m\u001b[0mfamm60\u001b[0m\u001b[0;34m,\u001b[0m\u001b[0mfftobsamm60\u001b[0m\u001b[0;34m,\u001b[0m\u001b[0mcolor\u001b[0m\u001b[0;34m=\u001b[0m\u001b[0;34m'b'\u001b[0m\u001b[0;34m)\u001b[0m\u001b[0;34m\u001b[0m\u001b[0m\n\u001b[0m\u001b[1;32m      5\u001b[0m \u001b[0mplt\u001b[0m\u001b[0;34m.\u001b[0m\u001b[0msemilogy\u001b[0m\u001b[0;34m(\u001b[0m\u001b[0mfamm7\u001b[0m\u001b[0;34m,\u001b[0m\u001b[0mfftobsamm7\u001b[0m\u001b[0;34m,\u001b[0m\u001b[0mcolor\u001b[0m\u001b[0;34m=\u001b[0m\u001b[0;34m'r'\u001b[0m\u001b[0;34m)\u001b[0m\u001b[0;34m\u001b[0m\u001b[0m\n\u001b[1;32m      6\u001b[0m \u001b[0mplt\u001b[0m\u001b[0;34m.\u001b[0m\u001b[0mhold\u001b[0m\u001b[0;34m(\u001b[0m\u001b[0;34m)\u001b[0m\u001b[0;34m\u001b[0m\u001b[0m\n",
      "\u001b[0;31mNameError\u001b[0m: name 'famm60' is not defined"
     ]
    },
    {
     "data": {
      "image/png": "[encoded data removed]",
      "text/plain": [
       "<matplotlib.figure.Figure at 0x10e671e90>"
      ]
     },
     "metadata": {},
     "output_type": "display_data"
    }
   ],
   "source": [
    "%matplotlib inline\n",
    "#plt.semilogy(fnna,fftobsnna,color='g')\n",
    "plt.hold()\n",
    "plt.semilogy(famm60,fftobsamm60,color='b')\n",
    "plt.semilogy(famm7,fftobsamm7,color='r')\n",
    "plt.hold()\n",
    "\n",
    "\n",
    "\n",
    "\n"
   ]
  },
  {
   "cell_type": "code",
   "execution_count": 9,
   "metadata": {
    "collapsed": false
   },
   "outputs": [
    {
     "name": "stdout",
     "output_type": "stream",
     "text": [
      "Using matplotlib backend: MacOSX\n"
     ]
    },
    {
     "ename": "NameError",
     "evalue": "name 'famm60' is not defined",
     "output_type": "error",
     "traceback": [
      "\u001b[0;31m---------------------------------------------------------------------------\u001b[0m",
      "\u001b[0;31mNameError\u001b[0m                                 Traceback (most recent call last)",
      "\u001b[0;32m<ipython-input-9-b5b05522b5d8>\u001b[0m in \u001b[0;36m<module>\u001b[0;34m()\u001b[0m\n\u001b[1;32m      1\u001b[0m \u001b[0mget_ipython\u001b[0m\u001b[0;34m(\u001b[0m\u001b[0;34m)\u001b[0m\u001b[0;34m.\u001b[0m\u001b[0mmagic\u001b[0m\u001b[0;34m(\u001b[0m\u001b[0;34mu'matplotlib'\u001b[0m\u001b[0;34m)\u001b[0m\u001b[0;34m\u001b[0m\u001b[0m\n\u001b[1;32m      2\u001b[0m \u001b[0mplt\u001b[0m\u001b[0;34m.\u001b[0m\u001b[0mfigure\u001b[0m\u001b[0;34m(\u001b[0m\u001b[0mnum\u001b[0m\u001b[0;34m=\u001b[0m\u001b[0mNone\u001b[0m\u001b[0;34m,\u001b[0m \u001b[0mfigsize\u001b[0m\u001b[0;34m=\u001b[0m\u001b[0;34m(\u001b[0m\u001b[0;36m15\u001b[0m\u001b[0;34m,\u001b[0m \u001b[0;36m6\u001b[0m\u001b[0;34m)\u001b[0m\u001b[0;34m,\u001b[0m \u001b[0mdpi\u001b[0m\u001b[0;34m=\u001b[0m\u001b[0;36m80\u001b[0m\u001b[0;34m,\u001b[0m \u001b[0mfacecolor\u001b[0m\u001b[0;34m=\u001b[0m\u001b[0;34m'w'\u001b[0m\u001b[0;34m,\u001b[0m \u001b[0medgecolor\u001b[0m\u001b[0;34m=\u001b[0m\u001b[0;34m'k'\u001b[0m\u001b[0;34m)\u001b[0m\u001b[0;34m\u001b[0m\u001b[0m\n\u001b[0;32m----> 3\u001b[0;31m \u001b[0mplt\u001b[0m\u001b[0;34m.\u001b[0m\u001b[0msemilogy\u001b[0m\u001b[0;34m(\u001b[0m\u001b[0mfamm60\u001b[0m\u001b[0;34m,\u001b[0m\u001b[0mfftobsamm60\u001b[0m\u001b[0;34m,\u001b[0m\u001b[0mcolor\u001b[0m\u001b[0;34m=\u001b[0m\u001b[0;34m'k'\u001b[0m\u001b[0;34m)\u001b[0m\u001b[0;34m\u001b[0m\u001b[0m\n\u001b[0m\u001b[1;32m      4\u001b[0m \u001b[0mplt\u001b[0m\u001b[0;34m.\u001b[0m\u001b[0mhold\u001b[0m\u001b[0;34m(\u001b[0m\u001b[0;34m)\u001b[0m\u001b[0;34m\u001b[0m\u001b[0m\n\u001b[1;32m      5\u001b[0m \u001b[0mplt\u001b[0m\u001b[0;34m.\u001b[0m\u001b[0msemilogy\u001b[0m\u001b[0;34m(\u001b[0m\u001b[0mfnna\u001b[0m\u001b[0;34m,\u001b[0m\u001b[0mfftnna\u001b[0m\u001b[0;34m,\u001b[0m\u001b[0mcolor\u001b[0m\u001b[0;34m=\u001b[0m\u001b[0;34m'g'\u001b[0m\u001b[0;34m)\u001b[0m\u001b[0;34m\u001b[0m\u001b[0m\n",
      "\u001b[0;31mNameError\u001b[0m: name 'famm60' is not defined"
     ]
    },
    {
     "data": {
      "text/plain": [
       "<matplotlib.figure.Figure at 0x10e6802d0>"
      ]
     },
     "metadata": {},
     "output_type": "display_data"
    }
   ],
   "source": [
    "%matplotlib\n",
    "plt.figure(num=None, figsize=(15, 6), dpi=80, facecolor='w', edgecolor='k')\n",
    "plt.semilogy(famm60,fftobsamm60,color='k')\n",
    "plt.hold()\n",
    "plt.semilogy(fnna,fftnna,color='g')\n",
    "plt.semilogy(famm60,fftamm60,color='b')\n",
    "plt.semilogy(famm7,fftamm7,color='r')\n",
    "\n",
    "\n",
    "period_hrs = 12.42; lineformat = 'r--'; label='M2'\n",
    "plt.semilogy( [1/(3600*period_hrs), 1/(3600*period_hrs)], [1E-2, 1E7], lineformat)\n",
    "#ax.text(1/(3600*period_hrs), 1E6, label)\n",
    "\n",
    "period_hrs = 12.00; lineformat = 'y--'; label='S2'\n",
    "plt.semilogy( [1/(3600*period_hrs), 1/(3600*period_hrs)], [1E-2, 1E7], lineformat)\n",
    "\n",
    "period_hrs = 25.82; lineformat = 'b--'; label='O1'\n",
    "plt.semilogy( [1/(3600*period_hrs), 1/(3600*period_hrs)], [1E-2, 1E7], lineformat)\n",
    "\n",
    "period_hrs = 23.93; lineformat = 'k--'; label='K1'\n",
    "plt.semilogy( [1/(3600*period_hrs), 1/(3600*period_hrs)], [1E-2, 1E7], lineformat)\n",
    "\n",
    "period_hrs = 12.66; lineformat = 'b--'; label='N2'\n",
    "plt.semilogy( [1/(3600*period_hrs), 1/(3600*period_hrs)], [1E-2, 1E7], lineformat)\n",
    "\n",
    "period_hrs = 24.07; lineformat = 'r--'; label='P1'\n",
    "plt.semilogy( [1/(3600*period_hrs), 1/(3600*period_hrs)], [1E-2, 1E7], lineformat)\n",
    "\n",
    "period_hrs = 12.19; lineformat = 'g--'; label='L2'\n",
    "plt.semilogy( [1/(3600*period_hrs), 1/(3600*period_hrs)], [1E-2, 1E7], lineformat)\n",
    "\n",
    "period_hrs = 6.21; lineformat = 'g--'; label='M4'\n",
    "plt.semilogy( [1/(3600*period_hrs), 1/(3600*period_hrs)], [1E-2, 1E7], lineformat)\n",
    "\n",
    "plt.xlim([0,5E-5])\n",
    "plt.title(location)\n",
    "\n",
    "plt.savefig(location+'.png')\n"
   ]
  },
  {
   "cell_type": "code",
   "execution_count": null,
   "metadata": {
    "collapsed": true
   },
   "outputs": [],
   "source": []
  },
  {
   "cell_type": "code",
   "execution_count": null,
   "metadata": {
    "collapsed": true
   },
   "outputs": [],
   "source": []
  }
 ],
 "metadata": {
  "anaconda-cloud": {},
  "kernelspec": {
   "display_name": "Python [default]",
   "language": "python",
   "name": "python2"
  },
  "language_info": {
   "codemirror_mode": {
    "name": "ipython",
    "version": 2
   },
   "file_extension": ".py",
   "mimetype": "text/x-python",
   "name": "python",
   "nbconvert_exporter": "python",
   "pygments_lexer": "ipython2",
   "version": "2.7.12"
  }
 },
 "nbformat": 4,
 "nbformat_minor": 0
}
