{
 "cells": [
  {
   "cell_type": "markdown",
   "metadata": {},
   "source": [
    "# Diagnosing and plotting maps of internal tide for AMM60 validation paper"
   ]
  },
  {
   "cell_type": "markdown",
   "metadata": {},
   "source": [
    "** Summary: **\n",
    "Diagnostics for the internal tide. Aim: make maps of amplitude and variance of IT for z<200m\n",
    "\n",
    "** Notebook: ** internaltidemap_AMM60_paper.ipynb\n",
    "\n",
    "** Author: ** JP 12 Sept 2016\n",
    "\n",
    "** Changelog: **\n",
    "\n",
    "2D maps from 3D NEMO diagnostics:\n",
    "\n",
    "* 12 Sept 2016: Get started\n",
    "* 24 Oct 2016: Simple PAP animation of pycnocline depth in 1x1 deg box\n",
    "* 2 Nov 2016: Abstracted heavy lifting into .py script. Notebook wrapped used to document dicussion and thoughts.\n",
    "* 3 Nov 2016: Compiled June / July 2012 data and chunked analysis into 3days bites\n",
    "* 4 Nov 2016: presentation of 3 day chunks with IT stats and harmonic phase"
   ]
  },
  {
   "cell_type": "markdown",
   "metadata": {},
   "source": [
    "## Introduction\n",
    "\n",
    "The aim is to make maps of the internal tide map for the AMM60. \n"
   ]
  },
  {
   "cell_type": "markdown",
   "metadata": {
    "collapsed": true
   },
   "source": [
    "### Assumptions\n",
    "* (2D analysis) Assumed that analysis between the surface and the 200m isobath is sufficient to remove contributions from the main (Atlantic) thermocline. However I am not sure so mask out the deep water in the results. It would be good to show $\\delta$ both on and offshelf but I do not know how to interpret the offshelf diagnostic; what causes the large scale spatial patterns?"
   ]
  },
  {
   "cell_type": "markdown",
   "metadata": {},
   "source": [
    "### Comments, to do list:\n",
    "* Maybe add new diagnostics: e.g. in deep water, and wave potential energy?\n",
    "* In the pre-amble I talk about energy diagnostics in a couple of ways but do not diagnose it at all.\n",
    "* Add in another time period, investigate spring neap variability? If we did only one analysis period, 5 days over spring tides would be better.\n",
    "* investigate the stratification masking threshold and whether $\\sigma$ is elevated near fronts."
   ]
  },
  {
   "cell_type": "markdown",
   "metadata": {},
   "source": [
    "\n"
   ]
  },
  {
   "cell_type": "code",
   "execution_count": 1,
   "metadata": {
    "collapsed": false
   },
   "outputs": [],
   "source": [
    "import numpy as np\n",
    "import numpy.ma as ma\n",
    "\n",
    "from netCDF4 import Dataset\n",
    "import scipy.io # reading in mat files\n",
    "#import iris.quickplot as qplt\n",
    "\n",
    "from datetime import datetime, timedelta\n",
    "import matplotlib.dates as mdates\n",
    "\n",
    "import matplotlib.pyplot as plt  # plotting\n",
    "\n",
    "from sympy import * \n",
    "from __future__ import division\n",
    "\n",
    "init_printing()  # for sympy\n",
    "\n",
    "%matplotlib inline"
   ]
  },
  {
   "cell_type": "code",
   "execution_count": 1,
   "metadata": {
    "collapsed": false
   },
   "outputs": [
    {
     "name": "stdout",
     "output_type": "stream",
     "text": [
      "livmaf.home\n"
     ]
    }
   ],
   "source": [
    "# Check host name\n",
    "import socket\n",
    "hostname = socket.gethostname()\n",
    "print hostname"
   ]
  },
  {
   "cell_type": "code",
   "execution_count": 2,
   "metadata": {
    "collapsed": false
   },
   "outputs": [
    {
     "name": "stdout",
     "output_type": "stream",
     "text": [
      "jeff\n"
     ]
    }
   ],
   "source": [
    "import getpass\n",
    "username = getpass.getuser()\n",
    "print username"
   ]
  },
  {
   "cell_type": "markdown",
   "metadata": {},
   "source": [
    "#Part I: Definitions"
   ]
  },
  {
   "cell_type": "markdown",
   "metadata": {},
   "source": [
    "Define 3 variables to quantify the internal tide:\n",
    "\n",
    "0) depth mean density, $\\overline{\\rho}(t)$\n",
    "\n",
    "1) Potential energy anomaly, {PEanom, $\\phi$} \n",
    "\n",
    "2) Normalised first moment of stratification\n",
    "\n",
    "** Potential Energy anomaly **\n",
    "\n",
    "When the depth bins are equal, the potential energy anomaly, {PEanom, $\\phi$} reduces to $\\sum_k z_k (\\rho_k - \\overline{\\rho} )$ \n",
    "\n",
    "Since, when $\\Delta z_k =$ constant:\n",
    "$$\n",
    "\\begin{align}\n",
    "\\phi &&=&& \\frac{1}{H}\\int_{-H}^{0} (\\rho -\\overline{\\rho}) z \\,dz \\\\\n",
    "&&\\approx && \\frac{1}{n\\Delta z}\\sum_{k=1}^n (\\rho_k-\\overline{\\rho}) z_k (\\Delta z)_k  \\\\\n",
    "&& = &&  \\sum_{k=1}^n (\\rho_k-\\overline{\\rho}) z_k \n",
    "\\end{align}\n",
    "$$\n",
    "\n",
    "** Normalised 1st moment of stratification, $\\delta$ **\n"
   ]
  },
  {
   "cell_type": "markdown",
   "metadata": {},
   "source": [
    "Define the depth of the pycnocline, $\\delta$, as a normalised 1st moment of stratification:\n",
    "\n",
    "$$\n",
    "\\begin{align}\n",
    "\\delta = \\frac{m_1}{m_0}\n",
    "\\end{align}\n",
    "$$\n",
    "\n",
    "where\n",
    "$$\n",
    "\\begin{align}\n",
    "m_n &&=&& \\int_{-H}^{0} z^n \\frac{\\partial \\rho}{\\partial z} \\,dz  \\\\ \n",
    "\\end{align}\n",
    "$$\n",
    "and depth mean density is given as\n",
    "$$\n",
    "\\begin{align}\n",
    "\\overline{\\rho}(t) &&=&&  \\frac{m_0}{H} \n",
    "\\end{align}\n",
    "$$\n",
    "\n",
    "Then, applying the chain rule:\n",
    "$$\n",
    "\\begin{align}\n",
    "\\delta(t) &&=&& H(t) \\frac{  \\rho_{bed}(t) - \\overline{\\rho}(t)   }{  \\rho_{top}(t) - \\rho_{bed}(t) }\n",
    "\\end{align}\n",
    "$$"
   ]
  },
  {
   "cell_type": "code",
   "execution_count": null,
   "metadata": {
    "collapsed": true
   },
   "outputs": [],
   "source": []
  },
  {
   "cell_type": "code",
   "execution_count": null,
   "metadata": {
    "collapsed": true
   },
   "outputs": [],
   "source": []
  },
  {
   "cell_type": "markdown",
   "metadata": {},
   "source": [
    "## Notes on the pycnocline depth and variance diagnostic"
   ]
  },
  {
   "cell_type": "markdown",
   "metadata": {
    "collapsed": true
   },
   "source": [
    "$$\n",
    "\\begin{align}\n",
    "\\delta(x,y,\\zeta,t) && \\equiv && \\frac{ m_1(x,y,\\zeta,t) }{ m_0(x,y,\\zeta,t) } \\\\\n",
    "&& = && \\left\\{ \\int_\\zeta^0 z \\frac{\\partial \\rho}{\\partial z} \\, dz \\right\\} {\\Large\\div} \\\n",
    "\\left\\{ \\int_\\zeta^0  \\frac{\\partial \\rho}{\\partial z} \\, dz \\right\\} \\\\\n",
    " &&=&& -\\zeta(x,y,t) \\frac{  \\rho(x,y,\\zeta,t) - \\overline{\\rho}^\\zeta(x,y,\\zeta,t)   }{  \\rho(x,y,0,t) - \\rho(x,y,\\zeta,t) }\n",
    "\\end{align}\n",
    "$$\n"
   ]
  },
  {
   "cell_type": "markdown",
   "metadata": {},
   "source": [
    "Note that this definition is independant of (x,y) space. So, if $\\zeta=\\zeta(x,y)$ is the time averaged depth of a model level then this is still meaningful, indeed a useful way to remove the main thermocline contribution to the diagnostic.\n",
    "\n",
    "However if model layers are chosen to define the depth of integration then $\\zeta=\\zeta(x,y,t)$, and then $\\delta=\\delta(x,y,\\zeta,t)$. If $\\zeta(x,y,t)$ fluctuates significantly with the tide is this likely to be a problem with the diagnostic? Consider two extreme cases: i) integration is taken over the full water column, ii) the depth integration limiting sigma level is at the pycnocline."
   ]
  },
  {
   "cell_type": "markdown",
   "metadata": {},
   "source": [
    "** 1) Full water column **\n",
    "If $\\zeta=\\zeta_{pyc}$ is the pycnocline depth such that $\\rho(x,y,\\zeta,t)=\\rho_{pyc}$ is independant of time\n",
    "$$\n",
    "\\begin{align}\n",
    "\\delta(x,y,\\zeta_{pyc},t) && \\equiv && -\\zeta_{pyc}(x,y,t) \\frac{  \\rho(x,y,\\zeta_{pyc},t) - \\overline{\\rho}^\\zeta(x,y,\\zeta_{pyc},t)   }{  \\rho(x,y,0,t) - \\rho(x,y,\\zeta_{pyc},t) }\n",
    "\\end{align}\n",
    "$$\n",
    "Then $\\delta$ varies with $-\\zeta_{pyc}(x,y,t)$, the pycnocline depth.\n"
   ]
  },
  {
   "cell_type": "markdown",
   "metadata": {},
   "source": [
    "** 2) Integration to the pycnocline **\n",
    "\n",
    "\n",
    "If $\\zeta$ is the sea bed $H(x,y)>0$, independant of time\n",
    "$$\n",
    "\\begin{align}\n",
    "\\delta(x,y,-H,t) && \\equiv && H(x,y) \\frac{  \\rho(x,y,-H,t) - \\overline{\\rho}^\\zeta(x,y,-H,t)   }{  \\rho(x,y,0,t) - \\rho(x,y,-H,t) }\n",
    "\\end{align}\n",
    "$$\n",
    "Then $\\delta$ varies with $\\overline{\\rho}^\\zeta(x,y,-H,t)$, the depth averaged density.\n",
    "\n"
   ]
  },
  {
   "cell_type": "markdown",
   "metadata": {},
   "source": [
    "These two scenarios seem to produce different $\\delta$. Are they equivalent?\n",
    "\n",
    "Assume a two layer fluid, such that $\\rho_0$ for $0>z>-d$ and $\\rho_b$ for $-d>z>-H$.\n",
    "\n",
    "Then **1)**\n",
    "$$\n",
    "\\begin{align}\n",
    "\\delta(x,y,-H,t) && \\equiv && H(x,y) \\frac{  \\rho_b - \\overline{\\rho}^\\zeta(x,y,-H,t)   }{  \\rho_0 - \\rho_b } \\\\\n",
    "&&=&&    \\rho_b \\frac{ H(x,y)  }{  \\rho_0 - \\rho_b }  -   \\overline{\\rho}^\\zeta(x,y,-H,t)\\frac{ H(x,y)  }{  \\rho_0 - \\rho_b } \\\\\n",
    "&&=&&    \\rho_b \\frac{ H(x,y)  }{  \\rho_0 - \\rho_b }  -   (\\frac{d}{H}\\rho_0 + \\frac{(H-d)}{H}\\rho_b )\\frac{ H(x,y)  }{  \\rho_0 - \\rho_b } \\\\\n",
    "&&=&&    \\rho_b \\frac{ H(x,y)  }{  \\rho_0 - \\rho_b }  -   \\frac{ (d\\rho_0 + (H-d)\\rho_b )  }{  \\rho_0 - \\rho_b } \\\\\n",
    "&&=&&     -   d \\\\\n",
    "\\end{align}\n",
    "$$"
   ]
  },
  {
   "cell_type": "markdown",
   "metadata": {},
   "source": [
    "Conversely, ** 2) **"
   ]
  },
  {
   "cell_type": "markdown",
   "metadata": {},
   "source": [
    "$$\n",
    "\\begin{align}\n",
    "\\delta(x,y,\\zeta_{pyc},t) && \\equiv && -\\zeta_{pyc}(x,y,t) \\frac{  \\rho(x,y,\\zeta_{pyc},t) - \\overline{\\rho}^\\zeta(x,y,\\zeta_{pyc},t)   }{  \\rho(x,y,0,t) - \\rho(x,y,\\zeta_{pyc},t) }  \\\\\n",
    "&& = && \\zeta_{pyc}(x,y,t) \\\\\n",
    "&& = &&  -d\n",
    "\\end{align}\n",
    "$$\n",
    "\n"
   ]
  },
  {
   "cell_type": "markdown",
   "metadata": {},
   "source": [
    "It would appear that the two distinct scenarios are equivalent, even for time varying sigma levels. This is perhaps an artificat of the two layer flow special case... And warrants a bit of extra thought.\n",
    "\n",
    "Actually common sense would point out that as long as $\\rho_z$ is small at $z=\\zeta$ then it will not contribe to the calculation of $\\delta$ regardless of how much it might oscillate in depth.\n",
    "\n",
    "Pinning down the depth of the Atlantic mode water is not so straight forward without lots of  diagnostics. Not having the internal wave diagnostics working in deep water may not be a problem if our interest is on the shelf.\n",
    "\n",
    "By inspection of the FASTNEt LA mooring, truncating the depth integral to 1000m should be adequate.\n",
    "\n"
   ]
  },
  {
   "cell_type": "markdown",
   "metadata": {
    "collapsed": true
   },
   "source": []
  },
  {
   "cell_type": "markdown",
   "metadata": {},
   "source": [
    "# Wave energy\n",
    "It might be desirable to compute the wave energy in the internal wave field.\n",
    "The easiest way to do this would be from the potential energy associated with the displacement.\n",
    "Following Kundu\n",
    "(http://www3.nd.edu/~fthomas/Kundu_Fluid_Mechanics.pdf 7.150 p302)\n",
    "\n",
    "$$\n",
    "E_p = \\frac{1}{2}N^2 \\rho_0 \\zeta^2\n",
    "$$\n",
    "\n",
    "is the potential energy per unit volume, where $\\zeta$ is the displacement amplitude. To be honest these sums need to be carefully done to ensure they are appropriate for the shallow water problem but I would expect that in shelf sea the potential energy would be given by:\n",
    "\n",
    "$$\n",
    "E_p \\approx \\frac{g\\Delta \\rho}{2 H}  \\delta^2\n",
    "$$\n",
    "\n",
    "for displacement variance $\\delta$, top to bottom density difference $\\Delta \\rho$ over a depth $H$. Though alternatively $N$ could be given by the thermocline maximum..."
   ]
  },
  {
   "cell_type": "markdown",
   "metadata": {},
   "source": [
    "#Part II: AMM60 Diagnostics. Starting afresh with 4D NEMO data.\n",
    "Here load in thermocline diagnostic and process these data"
   ]
  },
  {
   "cell_type": "markdown",
   "metadata": {},
   "source": [
    "Data comes from Karen's ARCHER simulation:\n",
    "\n",
    "`/work/n01/n01/kariho40/NEMO/NEMOGCM_jdha/dev_r4621_NOC4_BDY_VERT_INTERP/NEMOGCM/CONFIG/AMM60smago/EXPD376/`\n",
    "\n",
    "Copied data for 2012 June - Aug 9th\n",
    "\n",
    "`\n",
    "livljobs2 jelt $ scp jelt@login.archer.ac.uk:/work/n01/n01/kariho40/NEMO/NEMOGCM_jdha/dev_r4621_NOC4_BDY_VERT_INTERP/NEMOGCM/CONFIG/AMM60smago/EXPD376/OUTPUT/AMM60_1h_2012*0120[678]??_diagIT_grid_T.nc /projectsa/FASTNEt/jelt/AMM60/RUNS/2010_2013/IT/.\n",
    "`\n",
    "\n",
    "Also use the  across a single mooring file to plot the SSH\n",
    "scp jelt@login.archer.ac.uk:/work/n01/n01/kariho40/NEMO/NEMOGCM_jdha/dev_r4621_NOC4_BDY_VERT_INTERP/NEMOGCM/CONFIG/AMM60smago/EXPD376/OUTPUT/AMM60_1h_20120601_20120601_fastnet_ST4_grid_T.nc"
   ]
  },
  {
   "cell_type": "code",
   "execution_count": null,
   "metadata": {
    "collapsed": false
   },
   "outputs": [],
   "source": []
  },
  {
   "cell_type": "code",
   "execution_count": null,
   "metadata": {
    "collapsed": false
   },
   "outputs": [],
   "source": []
  },
  {
   "cell_type": "code",
   "execution_count": 2,
   "metadata": {
    "collapsed": false
   },
   "outputs": [
    {
     "name": "stdout",
     "output_type": "stream",
     "text": [
      "Overwriting internaltidemap_AMM60_paper.py\n"
     ]
    }
   ],
   "source": [
    "#%%writefile internaltidemap_AMM60_paper.py\n",
    "# %load internaltidemap_AMM60_paper.py\n",
    "#\n",
    "# internaltidemap_AMM60_paper.py\n",
    "#\n",
    "# Diagnostics for the internal tide. Aim: make maps of amplitude and variance of IT for z<200m\n",
    "#\n",
    "# Origin: internaltidemap_AMM60_paper.ipynb\n",
    "# jpolton 2/11/16\n",
    "\n",
    "from netCDF4 import Dataset\n",
    "import numpy as np\n",
    "import numpy.ma as ma\n",
    "import datetime\n",
    "\n",
    "import os # Note sure I use this\n",
    "import glob # For getting file paths\n",
    "import copy # For deep copying variables\n",
    "from amm60_data_tools import NEMO_fancy_datestr # convert NEMO time \n",
    "from amm60_data_tools import delta_diagnose # compute pycnocline depth and variance\n",
    "\n",
    "import matplotlib.pyplot as plt  # plotting\n",
    "%matplotlib inline\n",
    "\n",
    "\n",
    "##############################################################################\n",
    "# Check host name and username\n",
    "import socket\n",
    "hostname = socket.gethostname()\n",
    "\n",
    "import getpass\n",
    "username = getpass.getuser()\n",
    "\n",
    "if 'livmaf' in hostname and username in ['jeff','jelt']:\n",
    "    dirroot = '/Volumes'\n",
    "    speedflag = True # only load in one file\n",
    "elif 'livljobs' in hostname and username in ['jeff','jelt']:\n",
    "    dirroot = ''\n",
    "    speedflag = True # only load in one file\n",
    "else:\n",
    "    dirroot = ''\n",
    "    speedflag = False\n",
    "\n",
    "##############################################################################\n",
    "# Define functions for plotting multi subplot figure \n",
    "##############################################################################\n",
    "\n",
    "# Plot the time mean depth and density fields\n",
    "#############################################\n",
    "def plotit(x,y,var,label,isubplot):\n",
    "    plt.subplot(2, 2, isubplot)\n",
    "    plt.pcolormesh(x, y, var )\n",
    "    plt.colorbar()\n",
    "    plt.ylabel('lat')\n",
    "    plt.xlabel('lon')\n",
    "    plt.title(label)\n",
    "\n",
    "\n",
    "# Plot map of thermocline variance and depth\n",
    "############################################\n",
    "def plotit_sub(x,y,var,label,clim,s_subplot):\n",
    "    plt.subplot(int(s_subplot[0]), int(s_subplot[1]), int(s_subplot[2]) )\n",
    "#    plt.pcolormesh(x, y, var, cmap='nipy_spectral')\n",
    "#    plt.colorbar()\n",
    "\n",
    "\n",
    "    cs = plt.pcolormesh(x,y,var, cmap=plt.cm.gnuplot)\n",
    "    cs.cmap.set_under('grey')\n",
    "    cs.set_clim(clim)\n",
    "    cb = plt.colorbar(cs, extend=\"max\") # Extend the upper end of the colorbar    \n",
    "\n",
    "    plt.ylabel('lat')\n",
    "    plt.xlabel('lon')\n",
    "    plt.ylim([+45,+63])\n",
    "    plt.xlim([-14,+14])\n",
    "    plt.title(label)\n",
    "\n",
    "\n",
    "\n",
    "\n",
    "\n",
    "##############################################################################\n",
    "# Set stuff up\n",
    "##############################################################################\n",
    "dirnameK = dirroot+'/projectsa/FASTNEt/kariho40/AMM60/RUNS/2010_2013/IT/' # 2010 diagnostics\n",
    "dirname = dirroot+'/projectsa/FASTNEt/jelt/AMM60/RUNS/2010_2013/IT/' # 2012 diagnostics\n",
    "region = 'Celtic'\n",
    "#region = 'Malin'\n",
    "#region = 'NSea'\n",
    "\n",
    "data_flag = '200m'\n",
    "\n",
    "#filename = 'AMM60_1h_20100306_20100306_diagIT_grid_T_200m.nc' # Original (March) with mask problems\n",
    "#filename = 'AMM60_1h_20100306_20100307_diagIT_grid_T.nc' # New (March) with fixed mask\n",
    "#filename = 'AMM60_1h_20100704_20100708_diagIT_grid_T.nc' # July 2010\n",
    "#filename = 'AMM60_1h_20120601_20120610_diagIT_grid_T.nc' # June A 2012\n",
    "#filename = 'AMM60_1h_20120611_20120620_diagIT_grid_T.nc' # June B 2012\n",
    "#filename = 'AMM60_1h_20120621_20120630_diagIT_grid_T.nc' # June C 2012\n",
    "#filename = 'AMM60_1h_20120701_20120710_diagIT_grid_T.nc' # July A 2012\n",
    "#filename = 'AMM60_1h_20120711_20120720_diagIT_grid_T.nc' # July B 2012\n",
    "#filename = 'AMM60_1h_20120721_20120730_diagIT_grid_T.nc' # July C 2012\n",
    "#filename = 'AMM60_1h_20120731_20120809_diagIT_grid_T.nc' # July D 2012\n",
    "varsurf = 'rhop_surf'\n",
    "varbot = 'rhopc_bot'\n",
    "varave = 'rhop_ave'\n",
    "vardep = 'depth_rhopc'\n",
    "varnlev = 'nlev'\n",
    "print 'Diagnostics are calculated over the upper 200m'\n",
    "\n",
    "\n",
    "\n",
    "##############################################################################\n",
    "## Load in static files: bathymetry and nlev data\n",
    "# the actual bathymetry (not the stuff that gets clipped at 200m)\n",
    "##############################################################################\n",
    "b = Dataset(dirroot+'/projectsa/FASTNEt/kariho40/AMM60/BATHY/GEBCO2014/BATHY_NOSMOOTH/bathyfile_AMM60.nc')\n",
    "\n",
    "bathy = b.variables['Bathymetry'][:] # (y, x)\n",
    "#load lat and lon\n",
    "blat = b.variables['lat'][:] # (y,x)\n",
    "blon = b.variables['lon'][:] # (y,x)\n",
    "\n",
    "b.close()\n",
    "\n",
    "## Load in the vertical levels nlev diagnosics from an old file\n",
    "g = Dataset(dirnameK+'AMM60_1h_20100704_20100708_diagIT_grid_T.nc')\n",
    "if data_flag == '200m':\n",
    "    nlev = g.variables['nlev'][:] #(time_counter, y, x)\n",
    "g.close()\n",
    "\n",
    "print 'np.shape(blat): ',np.shape(blat)\n",
    "\n",
    "\n",
    "\n",
    "##############################################################################\n",
    "# Find all the files and loop over them\n",
    "##############################################################################\n",
    "#define some arrays\n",
    "\n",
    "rho_top = []\n",
    "rho_bot = []\n",
    "rho_bar = []\n",
    "time_counter = []\n",
    "H = []\n",
    "first = True\n",
    "\n",
    "if speedflag == True:\n",
    "    filenames = glob.glob(dirname+'AMM60_1h_2012????_201208??_diagIT_grid_T.nc')\n",
    "    print 'fix to only read in one file on laptop'\n",
    "else:\n",
    "    filenames = glob.glob(dirname+'AMM60_1h_2012????_2012????_diagIT_grid_T.nc')\n",
    "\n",
    "for fullfilepath in filenames:\n",
    "\n",
    "    filename = fullfilepath.replace(dirname,'')\n",
    "    ## Read in the data\n",
    "    print 'Reading: '+filename+'\\n'\n",
    "\n",
    "    f = Dataset(fullfilepath)\n",
    "\n",
    "    # load in pycnocline variables. NEED the [:] to slice the NetCDF data, o/w it is not manipulatable\n",
    "    rhop_surf = f.variables[varsurf][:] # (time_counter, deptht, y, x)\n",
    "    rhop_ave = f.variables[varave][:] # (time_counter, deptht, y, x)\n",
    "    rhop_bot = f.variables[varbot][:] # (time_counter, deptht, y, x)\n",
    "    #if data_flag == '200m':  # Shifted this to separate call since newer files don't have this variable\n",
    "    #    nlev = f.variables[varnlev][:] #(time_counter, y, x)\n",
    "\n",
    "    # load in time and depth\n",
    "    depth = f.variables[vardep][:] # (time_counter, deptht, y, x)\n",
    "    f_time_counter = f.variables['time_counter'][:] # vector\n",
    "    time_origin = f.variables['time_counter'].time_origin\n",
    "    time_calendar = f.variables['time_counter'].calendar\n",
    "    time_units = f.variables['time_counter'].units\n",
    "\n",
    "    #load lat and lon\n",
    "    nav_lat = f.variables['nav_lat'][:] # (y,x)\n",
    "    nav_lon = f.variables['nav_lon'][:] # (y,x)\n",
    "\n",
    "\n",
    "    f_rho_top = np.squeeze(rhop_surf);\n",
    "    f_rho_bot = np.squeeze(rhop_bot);\n",
    "    f_rho_bar = np.squeeze(rhop_ave);\n",
    "    f_H = np.squeeze(depth);\n",
    "\n",
    "    f.close() # close the netcdf mooring file\n",
    "\n",
    "\n",
    "\n",
    "    # Bundle all the data along the time axis\n",
    "    #########################################\n",
    "    if (first):\n",
    "        time_counter = f_time_counter\n",
    "        H            = f_H\n",
    "        rho_top      = f_rho_top\n",
    "        rho_bot      = f_rho_bot\n",
    "        rho_bar      = f_rho_bar\n",
    "        first = False\n",
    "    else:\n",
    "        time_counter = np.append(time_counter, f_time_counter, axis=0)\n",
    "        H            = np.append(H,f_H, axis=0)\n",
    "        rho_top      = np.append(rho_top, f_rho_top, axis=0)\n",
    "        rho_bot      = np.append(rho_bot, f_rho_bot, axis=0)\n",
    "        rho_bar      = np.append(rho_bar, f_rho_bar, axis=0)\n",
    "\n",
    "\n",
    "\n",
    "# Load is SSH data for ST4\n",
    "##########################\n",
    "#fullfilepath1 = '/projectsa/FASTNEt/kariho40/AMM60/RUNS/D376/AMM60_1h_20120504_20120610_fastnet_ST4_grid_T.nc'\n",
    "#fullfilepath2 = '/projectsa/FASTNEt/kariho40/AMM60/RUNS/D376/AMM60_1h_20120611_20120702_fastnet_ST4_grid_T.nc'\n",
    "\n",
    "# Though these files are from a different simulation they overlay the common periods very well, though not perfectly.\n",
    "# It is good enough for these purposes which are visual.\n",
    "fullfilepath1 = dirroot+'/projectsa/FASTNEt/kariho40/AMM60/RUNS/2010_2013/NO_DIFF/AMM60_1h_20120421_20120619_fastnet_ST4_grid_T.nc'\n",
    "fullfilepath2 = dirroot+'/projectsa/FASTNEt/kariho40/AMM60/RUNS/2010_2013/NO_DIFF/AMM60_1h_20120620_20120818_fastnet_ST4_grid_T.nc'\n",
    "\n",
    "\n",
    "f = Dataset(fullfilepath1)\n",
    "\n",
    "# load in time and depth\n",
    "depth_ST4 = f.variables['depth'][:] # (time_counter, deptht, y, x)\n",
    "time_counter_ST4  = f.variables['time_counter'][:]\n",
    "\n",
    "f = Dataset(fullfilepath2)\n",
    "\n",
    "# load in time and depth\n",
    "depth_ST4 = np.append(depth_ST4,f.variables['depth'][:] , axis = 0) # (time_counter, deptht, y, x)\n",
    "time_counter_ST4  = np.append( time_counter_ST4, f.variables['time_counter'][:], axis = 0)\n",
    "\n",
    "# Remove the mean from the depth\n",
    "depth_ST4 = depth_ST4 - np.mean(depth_ST4, axis = 0)\n",
    "\n",
    "\n",
    "##############################################################################\n",
    "# Process data\n",
    "##############################################################################\n",
    "print 'Process data'\n",
    "print '############'\n",
    "\n",
    "\n",
    "# Stack rho data into a 3 layer profile\n",
    "profile = rho_top[:,np.newaxis,:,:]\n",
    "profile = np.append(profile, rho_bar[:,np.newaxis,:,:], axis=1)\n",
    "profile = np.append(profile, rho_bot[:,np.newaxis,:,:], axis=1)\n",
    "\n",
    "## Compute delta and variance properties\n",
    "#################################\n",
    "max_depth = 0 # not used for 3D profiles\n",
    "[delta, delta_nt, internal_tide_map, time_datetime,  pycn_depth_map_3day, internal_tide_map_3day, time_datetime_3day, time_counter_3day] = delta_diagnose( profile, time_counter, H, max_depth )\n",
    "\n",
    "# Process the SSH time data\n",
    "################################\n",
    "# Note that the Error flag doesn't work and I haven't actually checked it. What happens with leap years etc...\n",
    "[time_str_ST4, time_datetime_ST4, flag_err] = NEMO_fancy_datestr( time_counter_ST4, time_origin ) # SSH data\n",
    "\n",
    "## Compute stratification\n",
    "################################\n",
    "strat = {};\n",
    "strat = (rho_top - rho_bot) / H;\n",
    "\n",
    "\n",
    "# Define masks\n",
    "###############################\n",
    "import numpy.ma as ma\n",
    "\n",
    "[nt,ny,nx] = np.shape(strat)\n",
    "mask_shelf = np.reshape( ma.masked_where(nlev[0,:,:] < 41, nlev[0,:,:]) ,(ny,nx) )\n",
    "\n",
    "mask_land = np.reshape( ma.masked_where(nlev[0,:,:] == 0, np.ones((ny,nx))) ,(ny,nx) )\n",
    "\n",
    "mask_200m = np.reshape( ma.masked_where(bathy[:,:] >= 200, np.ones((ny,nx))) ,(ny,nx) )\n",
    "\n",
    "# Mask NW corner and west of 12W\n",
    "m = (63.-56.)/(0.-(-14.)) # Gradient of corner slice\n",
    "c = 63. # Slice lat intercept when lon=0\n",
    "t2 = np.array(nav_lat - m*nav_lon - c >= 0 ,dtype=bool) # Mask NW corner slice\n",
    "t1 = np.array(nav_lon < -12. , dtype=bool) # Mask west of 12W\n",
    "mask_corners = np.reshape( ma.masked_where( t1+t2 , np.ones((ny,nx))) ,(ny,nx) ) # Boolean addition is OR not SUM\n",
    "\n",
    "# Agregate masks associated with geographic domain of interest. Exclude strat mask.\n",
    "mask = mask_land*mask_200m*mask_corners # Ones and zeros, wet domain mask\n",
    "\n",
    "\n",
    "mean_strat = np.mean( strat ,axis=0)\n",
    "mask_strat = ( mean_strat >= -2E-3 ).astype(int)*(-999)   # Good vals: 0 / bad vals: -999. Plus mask_strat to variable when plotting.\n",
    "#mask_strat = ma.masked_where(np.mean( strat ,axis=0) >= -2E-3, np.ones((ny,nx)))\n",
    "\n",
    "\n",
    "\n",
    "\n",
    "\n",
    "##############################################################################\n",
    "# Plot density and depth fields\n",
    "##############################################################################\n",
    "print 'Plot stuff'\n",
    "print '##########'\n",
    "\n",
    "fig, ax = plt.subplots(2,2)\n",
    "plt.rcParams['figure.figsize'] = (20.0, 16.0)\n",
    "\n",
    "\n",
    "## analysis depth\n",
    "###############################\n",
    "var = np.log10(np.mean(H,axis=0))\n",
    "plotit(nav_lon,nav_lat,var,'log10(water column analaysis depth)',1)\n",
    "\n",
    "## top density\n",
    "###############################\n",
    "var = np.mean(rho_top,axis=0)\n",
    "var[var==0]=np.nan\n",
    "clim = [np.nanpercentile(var, 5), np.nanpercentile(var, 95)]\n",
    "#print 'colorbar limits:', clim\n",
    "#var = ma.masked_where(var <= 1024, var)\n",
    "plotit(nav_lon,nav_lat,var,'surface density',2)\n",
    "plt.clim(clim)\n",
    "\n",
    "## bottom density\n",
    "###############################\n",
    "var = np.mean(rho_bot,axis=0)\n",
    "var[var==0]=np.nan\n",
    "#var = ma.masked_where(var <= 1020, var)\n",
    "plotit(nav_lon,nav_lat,var,'density at deepest analysis depth',3)\n",
    "plt.clim(clim)\n",
    "\n",
    "## mean density, rho_bar\n",
    "###############################\n",
    "#var2=( rho_bot - rho_bar) / (rho_top - rho_bot)*np.mean(H,axis=0)\n",
    "#var = var2[0,:,:]\n",
    "var=np.mean(rho_bar,axis=0)\n",
    "var[var==0]=np.nan\n",
    "clim = [np.nanpercentile(var, 5), np.nanpercentile(var, 95)]\n",
    "#var = ma.masked_where(var <= 1024, var)\n",
    "plotit(nav_lon,nav_lat,var,'ave density over analysis depth',4)\n",
    "plt.clim(clim)\n",
    "\n",
    "\n",
    "##############################################################################\n",
    "# Plot pycnocline statistics\n",
    "##############################################################################\n",
    "\n",
    "fig, ax = plt.subplots(2,2)\n",
    "plt.rcParams['figure.figsize'] = (20.0, 16.0)\n",
    "plt.suptitle(filename)\n",
    "\n",
    "## Analysis depth range\n",
    "###############################\n",
    "var = np.mean(H,axis=0)*mask_land*mask_200m\n",
    "clim = [np.nanpercentile(var, 5), np.nanpercentile(var, 95)]\n",
    "#print 'subplot 1: percentile range:',clim\n",
    "plotit_sub(nav_lon,nav_lat,var,'Analysis depth range (m)',clim,'221')\n",
    "#plt.clim(clim)\n",
    "#plt.contour(nav_lon,nav_lat,depth[0,:,:]*mask_shelf, [100,200])\n",
    "\n",
    "## pycnocline depth\n",
    "###############################\n",
    "#var = pycn_depth_map\n",
    "var = delta[0,:,:]*mask_land*mask_200m # *mask_strat\n",
    "var[var>=200]=np.nan\n",
    "clim = [10, 50]\n",
    "#clim = [np.nanpercentile(var, 5), np.nanpercentile(var, 95)]\n",
    "#print 'subplot 2: percentile range:',clim\n",
    "plotit_sub(nav_lon,nav_lat,var+mask_strat,'pycnocline depth (m)',clim,'222')\n",
    "#plt.clim(clim)\n",
    "#plt.contour(nav_lon,nav_lat,H[0,:,:]*mask_shelf, [100,200])\n",
    "\n",
    "\n",
    "## average bulk stratification\n",
    "###############################\n",
    "var = np.mean( -strat ,axis=0)*mask_land*mask_200m #*(mask_strat*mask_strat)\n",
    "#var = np.max(nlev,axis=0) - np.min(nlev,axis=0)\n",
    "clim = [0, 0.02]\n",
    "#clim = [0, np.nanpercentile(var, 95)]\n",
    "#print 'subplot 4: percentile range:',clim\n",
    "plotit_sub(nav_lon,nav_lat,var+mask_strat,'-mean bulk stratification (kg/m^4)',clim,'223')\n",
    "#plt.clim(clim)\n",
    "\n",
    "\n",
    "## pycnocline depth variance\n",
    "###############################\n",
    "var = np.log10(internal_tide_map*mask_land*mask_200m) #*mask_strat)\n",
    "clim = [0., 2.6]\n",
    "#clim = [np.nanpercentile(var, 1), np.nanpercentile(var, 99)]\n",
    "#print 'subplot 3: percentile range:',clim\n",
    "plotit_sub(nav_lon,nav_lat,var+mask_strat,'log10[pycnocline depth variance (m)]',clim,'224')\n",
    "#plt.clim(clim)\n",
    "\n",
    "\n",
    "\n",
    "\n",
    "\n",
    "##############################################################################\n",
    "# Plot pycnocline statistics in 3 day chunks\n",
    "##############################################################################\n",
    "#for i in range(6,7):\n",
    "for i in range(nt/(24*3)):\n",
    "\n",
    "    # Find indices in SSH ST4 data that correspond to the IT data\n",
    "    ind = [ii for ii in range(len(time_counter_ST4)) if time_counter_ST4[ii] in time_counter_3day[i,:]]\n",
    "\n",
    "    fig, ax = plt.subplots(2,2)\n",
    "    plt.rcParams['figure.figsize'] = (20.0, 16.0)\n",
    "    plt.suptitle(str(time_datetime_ST4[ind[0]])+' to '+str(time_datetime_ST4[ind[-1]]), fontsize=20)\n",
    "\n",
    "      ## SSH\n",
    "    ###############################\n",
    "    var = depth_ST4\n",
    "    hlim = [-0.25, 0.25]\n",
    "    plt.subplot(4,1,1)\n",
    "    plt.plot(time_datetime_ST4, depth_ST4[:,-1,1,1])\n",
    "    plt.plot([time_datetime_ST4[ii] for ii in ind], depth_ST4[ind,-1,1,1], 'r')\n",
    "    dstart = datetime.datetime(2012,6,1)\n",
    "    dend = datetime.datetime(2012,8,9)\n",
    "    plt.xlim(dstart, dend)\n",
    "    plt.xlabel('time')\n",
    "    plt.ylabel('SSH above mean (m)')\n",
    "    plt.title('ST4 SSH')\n",
    "    #plt.clim(hlim)\n",
    "\n",
    "      \n",
    "    ## pycnocline depth\n",
    "    ###############################\n",
    "    var = copy.deepcopy(pycn_depth_map_3day[i,:,:])\n",
    "    clim = [0, 50]\n",
    "    #clim = copy.deepcopy([0, np.nanpercentile(var*mask, 95)])\n",
    "    var[mask*mask_strat==-999] = -999 # These will be off the bottom of the colorbar scale, assign grey \n",
    "    plotit_sub(nav_lon,nav_lat,var*mask,'pycnocline depth (m)',clim,'323')\n",
    "\n",
    "    ## pycnocline depth histogram\n",
    "    ###############################\n",
    "    plt.subplot(3,2,5)\n",
    "    plt.plot( np.sort(pycn_depth_map_3day[i,:,:]*mask, axis=None) )\n",
    "    plt.xlabel('sorted grid box index')\n",
    "    plt.ylabel('pycnocline depth (m)')\n",
    "    plt.ylim(clim)\n",
    "    plt.xlim(0,3E5)\n",
    "\n",
    "    \n",
    "    \n",
    "    ## pycnocline depth variance\n",
    "    ###############################    \n",
    "    var = copy.deepcopy(internal_tide_map_3day[i,:,:])\n",
    "    #clim = [0, 30]\n",
    "    clim = [np.log10(1), np.log10(30)]\n",
    "    #clim = copy.deepcopy([0, np.nanpercentile(var*mask, 95)])\n",
    "    var[mask*mask_strat==-999] = -999 # These will be off the bottom of the colorbar scale, assign grey \n",
    "    #plotit_sub(nav_lon,nav_lat,var*mask,'pycnocline depth variance(m)',clim,'322')\n",
    "    plotit_sub(nav_lon,nav_lat,np.log10(var)*mask,'log10[pycnocline depth variance(m)]',clim,'324')\n",
    "        \n",
    "    ## pycnocline depth variance histogram\n",
    "    ###############################\n",
    "    plt.subplot(3,2,6)\n",
    "    #plt.plot( np.sort(internal_tide_map_3day[i,:,:]*mask, axis=None) )\n",
    "    #plt.ylabel('pycnocline depth variance (m)')  \n",
    "    plt.plot( np.sort(np.log10(internal_tide_map_3day[i,:,:])*mask, axis=None) )\n",
    "    plt.ylabel('log10[pycnocline depth variance (m)]')  \n",
    "    plt.xlabel('sorted grid box index')\n",
    "    plt.ylim(clim)\n",
    "    plt.xlim(0,3E5)\n",
    "        \n",
    "\n",
    "\n",
    "    ## Save output\n",
    "    ###############################\n",
    "    fname = dirroot+'/scratch/jelt/tmp/internaltidemap'+str(i).zfill(3)+'_IT_stats.png'\n",
    "    plt.savefig(fname)"
   ]
  },
  {
   "cell_type": "code",
   "execution_count": null,
   "metadata": {
    "collapsed": false
   },
   "outputs": [],
   "source": []
  },
  {
   "cell_type": "code",
   "execution_count": 153,
   "metadata": {
    "collapsed": false
   },
   "outputs": [],
   "source": [
    "m = (63.-56.)/(0.-(-14.)) # Gradient of corner slice\n",
    "c = 63. # Slice lat intercept when lon=0\n",
    "t2 = np.array(nav_lat - m*nav_lon - c >= 0 ,dtype=bool) # Mask NW corner slice\n",
    "t1 = np.array(nav_lon < -12. , dtype=bool) # Mask west of 12W\n",
    "mask_corners = np.reshape( ma.masked_where( t1+t2 , np.ones((ny,nx))) ,(ny,nx) ) # Boolean addition is OR not SUM\n",
    "\n"
   ]
  },
  {
   "cell_type": "code",
   "execution_count": 154,
   "metadata": {
    "collapsed": false
   },
   "outputs": [
    {
     "name": "stderr",
     "output_type": "stream",
     "text": [
      "/login/jelt/anaconda3/lib/python2.7/site-packages/IPython/kernel/__main__.py:6: RuntimeWarning: invalid value encountered in greater_equal\n"
     ]
    },
    {
     "data": {
      "image/png": "[encoded data removed]",
      "text/plain": [
       "<matplotlib.figure.Figure at 0x7ff320aa8c50>"
      ]
     },
     "metadata": {},
     "output_type": "display_data"
    }
   ],
   "source": [
    "    # THIS WORKS\n",
    "    mask = mask_land*mask_200m*mask_corners # Ones and zeros, wet domain mask\n",
    "    var = pycn_depth_map_3day[i,:,:]\n",
    "    clim = [np.nanpercentile(var*mask, 5), np.nanpercentile(var*mask, 95)]\n",
    "\n",
    "    var[var*mask>=55]=55.             # Flat line pycnocline depth at 60m    \n",
    "    #var = var*mask\n",
    "    var[mask*mask_strat==-999] = 60. # These will be off the top of the colorbar scale, grey with cmap='nipy_spectral' \n",
    "    plotit_sub(nav_lon,nav_lat,var*mask,'pycnocline depth (m)','321')\n",
    "    plt.clim(clim)"
   ]
  },
  {
   "cell_type": "code",
   "execution_count": null,
   "metadata": {
    "collapsed": false
   },
   "outputs": [],
   "source": []
  },
  {
   "cell_type": "markdown",
   "metadata": {
    "collapsed": false
   },
   "source": [
    " # Copy of the plot section of internaltidemap_AMM60_paper.py"
   ]
  },
  {
   "cell_type": "code",
   "execution_count": null,
   "metadata": {
    "collapsed": false
   },
   "outputs": [
    {
     "name": "stderr",
     "output_type": "stream",
     "text": [
      "/login/jelt/anaconda3/lib/python2.7/site-packages/IPython/kernel/__main__.py:58: RuntimeWarning: invalid value encountered in log10\n",
      "/login/jelt/anaconda3/lib/python2.7/site-packages/IPython/kernel/__main__.py:65: RuntimeWarning: divide by zero encountered in log10\n"
     ]
    }
   ],
   "source": []
  },
  {
   "cell_type": "markdown",
   "metadata": {
    "collapsed": false
   },
   "source": [
    "It would be better to mask the mixed waters with a colour distinct from the land.\n",
    "\n",
    "These data are for 5 days (120 hours). This will not capture a spring neap cycle.\n",
    "\n",
    "1) the bathymetry reveals rich structure at fines scales between the coastline and 200m.\n",
    "\n",
    "2) The pycnocline depth (snapshot) strongly correlates with the water depth on large scales but also exhibits structure on fine scales. In particular plane waves do not dominate the pycnocline displacement snapshot. See for example stippled patterns in the Celtic Sea.\n",
    "\n",
    "3) Bulk stratification (top to bottom density difference divided by depth, with masking for absolute values less than 2E-3 kg/m^4, show regions of weak (>-2E-3, masked), intermediate ( -[2 -- 14]E-3, red_to_blue) and strong [< -14E-3 blue/black] stratification. Mixing occurs in regions of elevated tidal streams and shallow water.\n",
    "\n",
    "4) The variance of the pycnocline depth is computed as the variance of the tidally varying component of the pycnocline depth. This variance, $\\sigma$, is computed as\n",
    "$$\n",
    "\\sigma = var(\\delta - \\delta_{nt}) \n",
    "$$\n",
    "where $\\delta_{nt}$ is $\\delta$ with no tides, having applied a Doodson X0 filter. The variance $\\sigma$ is plotted on a $log_{10}$ scale.\n",
    "\n",
    "Inpertreting $\\sigma$ as the amplitude of the harmonic internal tide, there is significant internal tide activity around the Atlantic shelf break, in particular around the Celtic and Malin shelf breaks, and Faroe Shetland channel. Away from the shelf break there are evelvated $\\sigma$ in the western Irish sea, Scottish Isles, perhaps Dogger Bank and perhaps the North Sea spur of activity coming off the Norwegian trench.\n",
    "\n",
    "The stippling in the snapshot of Celtic Sea pycnocline depth does not translate into a stippling patter in the variance. Suggesting that the internal waves are propagating and not stationary.\n",
    "\n",
    "Stippling in the North Sea is more surprising...\n",
    "\n",
    "There could be internal waves generated at the moving front in St Georges channel. Elevated $\\sigma$ halo mixing regions. However these may also be an artifact of the definition that is singular in well mixed waters. The stratification masking threshold could be adjusted.\n",
    "\n",
    "Note\n",
    "$$\n",
    "\\delta = \\frac{ (\\rho_{bed} - \\overline{\\rho}) }{ \\textrm{stratification} }\n",
    "$$\n"
   ]
  },
  {
   "cell_type": "code",
   "execution_count": null,
   "metadata": {
    "collapsed": false
   },
   "outputs": [],
   "source": []
  },
  {
   "cell_type": "code",
   "execution_count": 128,
   "metadata": {
    "collapsed": false
   },
   "outputs": [
    {
     "data": {
      "image/png": "[encoded data removed]",
      "text/plain": [
       "<matplotlib.figure.Figure at 0x7ff32705c0d0>"
      ]
     },
     "metadata": {},
     "output_type": "display_data"
    }
   ],
   "source": [
    "# Fiddling with the colorbar\n",
    "\n",
    "x = np.arange(10)\n",
    "y = np.arange(10)\n",
    "z = np.random.rand(10,10)\n",
    "\n",
    "plt.figure(figsize=(6, 4))\n",
    "\n",
    "plt.subplot(1,3,1)\n",
    "cs = plt.contourf(x,y,z,levels=np.arange(0, 1, 0.1), cmap=plt.cm.jet, extend=\"both\")\n",
    "cs.cmap.set_under('k')\n",
    "cs.cmap.set_over('g')\n",
    "cs.set_clim(0, 1)\n",
    "cb = plt.colorbar(cs)\n",
    "\n",
    "plt.subplot(1,3,2)\n",
    "cs = plt.pcolormesh(x,y,z, cmap=plt.cm.jet)\n",
    "cs.cmap.set_under('k')\n",
    "cs.cmap.set_over('g')\n",
    "cs.set_clim(0.1, 0.9)\n",
    "cb = plt.colorbar(cs)\n",
    "\n",
    "plt.subplot(1,3,3)\n",
    "cs = plt.pcolormesh(x,y,z, cmap=plt.cm.jet)\n",
    "cs.cmap.set_under('white')\n",
    "cs.cmap.set_over('g')\n",
    "cs.set_clim(0.1, 0.9)\n",
    "cb = plt.colorbar(cs, extend=\"max\")\n",
    "\n"
   ]
  },
  {
   "cell_type": "code",
   "execution_count": null,
   "metadata": {
    "collapsed": false
   },
   "outputs": [],
   "source": [
    "# Read in hourly data from virtual mooring in the Celtic Sea. Choose ST4.\n",
    "ls /projectsa/FASTNEt/kariho40/AMM60/RUNS/D376/AMM60_1h_2012*ST4*nc\n",
    "\n",
    "RUNS/D376/AMM60_1h_20120504_20120608_fastnet_ST4_grid_T.nc  \n",
    "RUNS/D376/AMM60_1h_20120504_20120610_fastnet_ST4_grid_T.nc  \n",
    "RUNS/D376/AMM60_1h_20120611_20120702_fastnet_ST4_grid_T.nc  "
   ]
  },
  {
   "cell_type": "code",
   "execution_count": 10,
   "metadata": {
    "collapsed": false
   },
   "outputs": [
    {
     "name": "stdout",
     "output_type": "stream",
     "text": [
      "Do the lines overlap? If so then may as well stick to the longer files\n",
      "Edit *.py file with SSH moorings files\n",
      "Edit *.py files with plotting time, and limits, on x-axis\n"
     ]
    },
    {
     "data": {
      "image/png": "[encoded data removed]",
      "text/plain": [
       "<matplotlib.figure.Figure at 0x7fb2505c9410>"
      ]
     },
     "metadata": {},
     "output_type": "display_data"
    }
   ],
   "source": [
    "### Check that the SSH times series are consistent across overlapping files\n",
    "import datetime\n",
    "\n",
    "fullfilepath1 = '/projectsa/FASTNEt/kariho40/AMM60/RUNS/D376/AMM60_1h_20120504_20120610_fastnet_ST4_grid_T.nc'\n",
    "fullfilepath2 = '/projectsa/FASTNEt/kariho40/AMM60/RUNS/D376/AMM60_1h_20120611_20120702_fastnet_ST4_grid_T.nc'\n",
    "\n",
    "fullfilepath3 = '/projectsa/FASTNEt/kariho40/AMM60/RUNS/2010_2013/NO_DIFF/AMM60_1h_20120421_20120619_fastnet_ST4_grid_T.nc'\n",
    "fullfilepath4 = '/projectsa/FASTNEt/kariho40/AMM60/RUNS/2010_2013/NO_DIFF/AMM60_1h_20120620_20120818_fastnet_ST4_grid_T.nc'\n",
    "\n",
    "\n",
    "# load in time and depth\n",
    "f = Dataset(fullfilepath1)\n",
    "depth_1 = f.variables['depth'][:] # (time_counter, deptht, y, x)\n",
    "depth_1 = depth_1 - np.mean(depth_1, axis=0)\n",
    "time_counter_1  = f.variables['time_counter'][:]\n",
    "[time_str, time_datetime_1, flag_err] = NEMO_fancy_datestr( time_counter_1, time_origin )\n",
    "\n",
    "\n",
    "\n",
    "# load in time and depth\n",
    "f = Dataset(fullfilepath2)\n",
    "depth_2 = f.variables['depth'][:] # (time_counter, deptht, y, x)\n",
    "depth_2 = depth_2 - np.mean(depth_2, axis=0)\n",
    "time_counter_2  = f.variables['time_counter'][:]\n",
    "[time_str, time_datetime_2, flag_err] = NEMO_fancy_datestr( time_counter_2, time_origin )\n",
    "\n",
    "\n",
    "# load in time and depth\n",
    "f = Dataset(fullfilepath3)\n",
    "depth_3 = f.variables['depth'][:] # (time_counter, deptht, y, x)\n",
    "depth_3 = depth_3 - np.mean(depth_3, axis=0)\n",
    "time_counter_3  = f.variables['time_counter'][:]\n",
    "[time_str, time_datetime_3, flag_err] = NEMO_fancy_datestr( time_counter_3, time_origin )\n",
    "\n",
    "\n",
    "\n",
    "# load in time and depth\n",
    "f = Dataset(fullfilepath4)\n",
    "depth_4 = f.variables['depth'][:] # (time_counter, deptht, y, x)\n",
    "depth_4 = depth_4 - np.mean(depth_4, axis=0)\n",
    "time_counter_4  = f.variables['time_counter'][:]\n",
    "[time_str, time_datetime_4, flag_err] = NEMO_fancy_datestr( time_counter_4, time_origin )\n",
    "\n",
    "\n",
    "\n",
    "# Plot MLD timeseries\n",
    "fig = plt.figure()\n",
    "plt.rcParams['figure.figsize'] = (10.0, 5.0)\n",
    "\n",
    "plt.plot(time_datetime_3, depth_3[:,-1,1,1],'b.')\n",
    "plt.plot(time_datetime_4, depth_4[:,-1,1,1],'k.')\n",
    "\n",
    "plt.plot(time_datetime_1, depth_1[:,-1,1,1],'r.')\n",
    "plt.plot(time_datetime_2, depth_2[:,-1,1,1],'g.')\n",
    "plt.ylim([-0.25, 0.25])\n",
    "plt.ylabel('SSH (m)' )\n",
    "plt.xlabel('time')\n",
    "dstart = datetime.datetime(2012,6,9)\n",
    "dend = datetime.datetime(2012,6,12)\n",
    "#dstart = datetime.datetime(2012,4,15)\n",
    "#dend = datetime.datetime(2012,8,25)\n",
    "plt.xlim(dstart, dend)\n",
    "\n",
    "print 'Do the lines overlap? If so then may as well stick to the longer files. YES. Not perfect but close.'\n",
    "print 'Edit *.py file with SSH moorings files'\n",
    "print 'Edit *.py files with plotting time, and limits, on x-axis'"
   ]
  },
  {
   "cell_type": "code",
   "execution_count": null,
   "metadata": {
    "collapsed": false
   },
   "outputs": [],
   "source": []
  },
  {
   "cell_type": "code",
   "execution_count": null,
   "metadata": {
    "collapsed": true
   },
   "outputs": [],
   "source": [
    "/projectsa/FASTNEt/jelt/AMM60/RUNS/2010_2013/IT\n",
    "livljobs2 IT $ \n",
    "livljobs2 IT $ ls -lrt\n",
    "total 43043072\n",
    "-rwxr-x---. 1 jelt pol  632290027 Sep 30 08:17 AMM60_1h_20120601_20120601_diagIT_grid_T.nc\n",
    "-rwxr-x---. 1 jelt pol 6206250563 Sep 30 08:19 AMM60_1h_20120601_20120610_diagIT_grid_T.nc\n",
    "-rwxr-x---. 1 jelt pol 6206250563 Sep 30 08:20 AMM60_1h_20120611_20120620_diagIT_grid_T.nc\n",
    "-rwxr-x---. 1 jelt pol 6206250563 Sep 30 08:21 AMM60_1h_20120621_20120630_diagIT_grid_T.nc\n",
    "-rwxr-x---. 1 jelt pol 6206250563 Sep 30 08:23 AMM60_1h_20120701_20120710_diagIT_grid_T.nc\n",
    "-rwxr-x---. 1 jelt pol 6206250563 Sep 30 08:24 AMM60_1h_20120711_20120720_diagIT_grid_T.nc\n",
    "-rwxr-x---. 1 jelt pol 6206250563 Sep 30 08:25 AMM60_1h_20120721_20120730_diagIT_grid_T.nc\n",
    "-rwxr-x---. 1 jelt pol 6206250563 Sep 30 08:27 AMM60_1h_20120731_20120809_diagIT_grid_T.nc"
   ]
  },
  {
   "cell_type": "code",
   "execution_count": null,
   "metadata": {
    "collapsed": true
   },
   "outputs": [],
   "source": []
  },
  {
   "cell_type": "code",
   "execution_count": null,
   "metadata": {
    "collapsed": false
   },
   "outputs": [],
   "source": []
  },
  {
   "cell_type": "code",
   "execution_count": null,
   "metadata": {
    "collapsed": true
   },
   "outputs": [],
   "source": []
  }
 ],
 "metadata": {
  "anaconda-cloud": {},
  "kernelspec": {
   "display_name": "Python 2",
   "language": "python",
   "name": "python2"
  },
  "language_info": {
   "codemirror_mode": {
    "name": "ipython",
    "version": 2
   },
   "file_extension": ".py",
   "mimetype": "text/x-python",
   "name": "python",
   "nbconvert_exporter": "python",
   "pygments_lexer": "ipython2",
   "version": "2.7.11"
  }
 },
 "nbformat": 4,
 "nbformat_minor": 0
}
