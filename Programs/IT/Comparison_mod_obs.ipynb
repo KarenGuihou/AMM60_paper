{
 "cells": [
  {
   "cell_type": "markdown",
   "metadata": {},
   "source": [
    "# Reading BODC and model data for each mooring. Writing NC files with temperature at same time and depth for both\n",
    "\n",
    "** Summary: **\n",
    "Reading BODC and model data for each mooring. Writing NC files with temperature at same time and depth for both\n",
    "\n",
    "** Problems/To do **\n",
    "* This and that\n",
    "\n",
    "** Notebook: ** Comparison_mod_obs.ipynb\n",
    "\n",
    "** Author: ** kariho40 27 dec 2015\n",
    "\n",
    "** Changelog: **\n",
    "* 27 Dec 2015 (kariho40): get started\n",
    "* 20 Jan 2016 (jelt): add heading information. Generalise/automate some user defined paths. Sorted out an interpolate issue at edges of valid data.\n"
   ]
  },
  {
   "cell_type": "code",
   "execution_count": 7,
   "metadata": {
    "collapsed": false
   },
   "outputs": [
    {
     "name": "stdout",
     "output_type": "stream",
     "text": [
      "karen\n"
     ]
    }
   ],
   "source": [
    "## Import the libraries\n",
    "\n",
    "import numpy as np\n",
    "import numpy.ma as ma\n",
    "from scipy.io import netcdf\n",
    "from datetime import datetime, timedelta\n",
    "import matplotlib.dates as mdates\n",
    "import matplotlib.pyplot as plt  # plotting\n",
    "from sympy import * \n",
    "from __future__ import division\n",
    "import bodc_data_tools\n",
    "\n",
    "init_printing()  # for sympy\n",
    "%matplotlib inline\n",
    "\n",
    "## Personal librairies\n",
    "import sys\n",
    "# the mock-0.3.1 dir contains testcase.py, testutils.py & mock.py\n",
    "sys.path.append('/login/jelt/matlab/mfiles/ipynb/fastnet')\n",
    "import bodc_data_tools\n",
    "import h5py\n",
    "import amm60_data_tools\n",
    "\n",
    "\n",
    "######### Personal Paths #############\n",
    "HOME = '/media/karen/data1/'\n",
    "CRUISE_DIR = HOME + 'AMM60/FASTNEt/BODC_fastnet/'\n",
    "AMM60_DIR = HOME + 'AMM60/RUN_nodiff_2012/'\n",
    "AMM7_DIR = HOME + 'AMM7/2012/'\n",
    "#NNA_DIR = HOME + 'NNA/2012/'\n",
    "#CSV_FILENAME = 'bodc_series_metadata_summary.csv'\n",
    "WRITEDIR = HOME + 'AMM60/FASTNEt'\n",
    "MOORING_NAMES = ['ST1', 'ST2' ,'ST4' ,'ST5']\n",
    "\n",
    "\n",
    "# Path fixes while developing and debugging #\n",
    "import getpass\n",
    "user = getpass.getuser()\n",
    "print(user)\n",
    "\n",
    "if 'jelt' in user:\n",
    "    HOME = '/projectsa/FASTNEt/kariho40/OBS/BODC_FASTNEt_data/'\n",
    "    MOORINGmod_filename = '/projectsa/FASTNEt/kariho40/AMM60/RUNS/D376/AMM60_1h_fastnet_ST1.nc'\n",
    "    MOORINGobs_filename = '/scratch/jelt/mooring_0.nc'\n",
    "    MOORING_merged_filename = '/scratch/jelt/mooring_ST1_temp.nc'\n",
    "elif 'karen' in user:\n",
    "    ######### Personal Paths #############\n",
    "    HOME = '/media/karen/data1/'\n",
    "    CRUISE_DIR = HOME + 'AMM60/FASTNEt/BODC_fastnet/'\n",
    "    AMM60_DIR = HOME + 'AMM60/FASTNEt/'\n",
    "    AMM7_DIR = HOME + 'AMM7/2012/'\n",
    "    #NNA_DIR = HOME + 'AMM60/FASTNEt/NNA/'\n",
    "    NNA_DIR = HOME + 'AMM60/FASTNEt/BODC_fastnet/'\n",
    "    #CSV_FILENAME = 'bodc_series_metadata_summary.csv'\n",
    "    WRITEDIR = HOME + 'AMM60/FASTNEt/'\n",
    "    MOORING_NAMES = ['ST1', 'ST2' ,'ST4' ,'ST5']\n",
    "else:\n",
    "    print \"Don't panic! \"+user+\" not set up for pathname settings\"\n",
    "        \n"
   ]
  },
  {
   "cell_type": "markdown",
   "metadata": {},
   "source": [
    "### Loading the observed data"
   ]
  },
  {
   "cell_type": "code",
   "execution_count": 9,
   "metadata": {
    "collapsed": false
   },
   "outputs": [
    {
     "name": "stdout",
     "output_type": "stream",
     "text": [
      "ST1\n",
      "AMM60\n",
      "AMM7\n",
      "NNA\n",
      "11808.0208333\n",
      "ST2\n",
      "AMM60\n",
      "AMM7\n",
      "NNA\n",
      "11808.0208333\n",
      "ST4\n",
      "AMM60\n",
      "AMM7\n",
      "NNA\n",
      "11808.0208333\n",
      "ST5\n",
      "AMM60\n",
      "AMM7\n",
      "NNA\n",
      "11808.0208333\n"
     ]
    }
   ],
   "source": [
    "## Load OBS data\n",
    "for index in range(len(MOORING_NAMES)):\n",
    "    MOORING_NAME = MOORING_NAMES[index]\n",
    "    print(MOORING_NAME)\n",
    "    \n",
    "    print('AMM60')\n",
    "    filepath_mod = AMM60_DIR + 'AMM60_' + MOORING_NAME + '.nc'\n",
    "    MOORING_merged_filename = '/media/karen/data1/AMM60/FASTNEt/AMM60/mooring_' + MOORING_NAME + '.nc'\n",
    "    [temp_obs,time_obs,depth_obs] = bodc_data_tools.readBodcMooringTemp(MOORING_NAME,CRUISE_DIR)\n",
    "    indtime_st=0\n",
    "    indtime_en=790\n",
    "    [temp_mod,time_mod,depth_mod,longitude,latitude] = amm60_data_tools.readNCmooring_hdf5(filepath_mod,indtime_st,indtime_en)\n",
    "    [temp_mod_interp,temp_obs_interp,time_lev,depth_lev] = amm60_data_tools.interpMooringModelData(temp_mod,time_mod,depth_mod,temp_obs,time_obs,depth_obs)\n",
    "    amm60_data_tools.writeNCmodelobs(MOORING_merged_filename,time_lev,depth_lev,longitude,latitude,temp_mod_interp,temp_obs_interp)\n",
    "\n",
    "    print('AMM7')\n",
    "    filepath_mod = AMM7_DIR + 'amm7_1h_20120601_20120630_fastnet_' + MOORING_NAME + '_grid_T.nc'\n",
    "    MOORING_merged_filename = '/media/karen/data1/AMM60/FASTNEt/AMM7/mooring_' + MOORING_NAME + '.nc'\n",
    "    [temp_mod,time_mod,depth_mod,longitude,latitude] = amm60_data_tools.readNCmooring_hdf5(filepath_mod,indtime_st,indtime_en)\n",
    "    [temp_mod_interp,temp_obs_interp,time_lev,depth_lev] = amm60_data_tools.interpMooringModelData(temp_mod,time_mod,depth_mod,temp_obs,time_obs,depth_obs)\n",
    "    amm60_data_tools.writeNCmodelobs(MOORING_merged_filename,time_lev,depth_lev,longitude,latitude,temp_mod_interp,temp_obs_interp)\n",
    "\n",
    "    print('NNA')\n",
    "    indtime_st=0\n",
    "    indtime_en=8760\n",
    "    filepath_mod = NNA_DIR + 'NNA_ERA_ZPS_TIDE_1h_20120101_20121231_grid_T_FAST_' + MOORING_NAME + '.nc'\n",
    "    #filepath_mod = NNA_DIR + 'NNA_' + MOORING_NAME + '.nc'\n",
    "    MOORING_merged_filename = '/media/karen/data1/AMM60/FASTNEt/NNA/mooring_' + MOORING_NAME + '.nc'\n",
    "    [temp_mod,time_mod_delay,depth_mod,longitude,latitude] = amm60_data_tools.readNCmooring_nna(filepath_mod,indtime_st,indtime_en)\n",
    "    time_mod = time_mod_delay\n",
    "    print(time_mod.min()/86400)\n",
    "    [temp_mod_interp,temp_obs_interp,time_lev,depth_lev] = amm60_data_tools.interpMooringNNAData(temp_mod,time_mod,depth_mod,temp_obs,time_obs,depth_obs)\n",
    "    time_lev_1950 = time_lev +366*30 -143\n",
    "    \n",
    "    [temp_mod_interp,temp_obs_interp,time_lev,depth_lev] = amm60_data_tools.interpMooringNNAData(temp_mod,time_mod,depth_mod,temp_obs,time_obs,depth_obs)\n",
    "    amm60_data_tools.writeNCmodelobs(MOORING_merged_filename,time_lev_1950,depth_lev,longitude,latitude,temp_mod_interp,temp_obs_interp)\n",
    "\n",
    "    \n",
    "    \n",
    "    \n",
    "    \n",
    "    \n",
    "    \n",
    "    \n"
   ]
  },
  {
   "cell_type": "code",
   "execution_count": 61,
   "metadata": {
    "collapsed": false
   },
   "outputs": [
    {
     "name": "stdout",
     "output_type": "stream",
     "text": [
      "2363887.0\n",
      "2433283.0\n",
      "69396.0\n",
      "92213.5\n",
      "22817.5\n",
      "11976.75\n"
     ]
    }
   ],
   "source": [
    "from jdcal import gcal2jd, jd2gcal\n",
    "obs_st = gcal2jd(1760,1,1)[0]+gcal2jd(1760,1,1)[1]+0.5\n",
    "mod_st = gcal2jd(1950,1,1)[0]+gcal2jd(1950,1,1)[1]+0.5\n",
    "delta_cal = mod_st - obs_st\n",
    "print(obs_st)\n",
    "print(mod_st)\n",
    "print(mod_st-obs_st)\n",
    "time_obs_1950 = time_obs - delta_cal\n",
    "print(time_obs.mean())\n",
    "print(time_obs_1950.mean())\n",
    "print(time_mod.mean()/86400)"
   ]
  },
  {
   "cell_type": "markdown",
   "metadata": {},
   "source": [
    "Instead of masking out zero values:\n",
    "\n",
    "`temp_obs = ma.masked_where(raw_temp_obs == 0, temp_obs)`\n",
    "\n",
    " which then causes problems in the interpolation routine, chop them out.\n",
    "\n",
    "However, editing the array loaded from the nc file is not always allowed:\n",
    "\n",
    "`temp_obs.flags.writeable = True` \n",
    "\n",
    "Is not permitted.\n",
    "\n",
    "Instead copy the array and set bad points to NaN.\n",
    "\n",
    "Also you have to mask out the data to pcolormesh"
   ]
  },
  {
   "cell_type": "markdown",
   "metadata": {},
   "source": []
  },
  {
   "cell_type": "code",
   "execution_count": null,
   "metadata": {
    "collapsed": false
   },
   "outputs": [],
   "source": []
  },
  {
   "cell_type": "markdown",
   "metadata": {},
   "source": [
    "### Plot the interpolated data"
   ]
  },
  {
   "cell_type": "code",
   "execution_count": null,
   "metadata": {
    "collapsed": false
   },
   "outputs": [],
   "source": [
    "fig, ax = plt.subplots(1,1)\n",
    "plt.rcParams['figure.figsize'] = (20.0, 8.0)\n",
    "plt.pcolormesh(time_lev-time_lev[0],depth_lev,temp_obs_interp)\n",
    "plt.xlim(0,18)\n",
    "plt.colorbar()\n",
    "plt.xlabel('time_lev-'+str(time_lev[0]))\n",
    "plt.ylabel('depth_lev')\n",
    "plt.title('temp_obs_interp')\n",
    "\n",
    "fig, ax = plt.subplots(1,1)\n",
    "plt.rcParams['figure.figsize'] = (20.0, 8.0)\n",
    "plt.pcolormesh(time_obs-time_obs[0],depth_obs,temp_obs)\n",
    "plt.xlim(0,18)\n",
    "plt.xlabel('time_obs-'+str(time_obs[0]))\n",
    "plt.ylabel('depth_obs')\n",
    "plt.title('temp_obs')\n",
    "plt.colorbar()\n",
    "\n",
    "fig, ax = plt.subplots(1,1)\n",
    "plt.rcParams['figure.figsize'] = (20.0, 8.0)\n",
    "plt.pcolormesh(time_lev-time_lev[0],depth_lev,temp_mod_interp)\n",
    "plt.ylim(-10, 650)\n",
    "plt.colorbar()\n",
    "plt.xlabel('time_lev-'+str(time_lev[0]))\n",
    "plt.ylabel('depth_lev')\n",
    "plt.title('temp_mod_interp')\n",
    "\n",
    "fig, ax = plt.subplots(1,1)\n",
    "plt.rcParams['figure.figsize'] = (20.0, 8.0)\n",
    "plt.pcolormesh((time_mod-time_mod[0])/86400,depth_mod,temp_mod)\n",
    "plt.ylim(-10, 650)\n",
    "plt.xlabel('(time_mod-'+str(time_mod[0])+')/86400')\n",
    "plt.ylabel('depth_mod')\n",
    "plt.title('temp_mod')\n",
    "plt.colorbar()"
   ]
  },
  {
   "cell_type": "code",
   "execution_count": null,
   "metadata": {
    "collapsed": false
   },
   "outputs": [],
   "source": [
    "fig, ax = plt.subplots(1,1)\n",
    "plt.rcParams['figure.figsize'] = (20.0, 8.0)\n",
    "plt.plot_date(time_lev,temp_mod[0,:])\n",
    "plt.plot_date(time_obs_1950,temp_obs[0,:],'r.')\n",
    "plt.xlabel('time_lev')\n",
    "plt.title('Surface temperatures - not interpolated')\n",
    "plt.legend(['temp_mod','temp_obs'],loc='best')\n",
    "\n",
    "\n",
    "\n",
    "fig, ax = plt.subplots(1,1)\n",
    "plt.rcParams['figure.figsize'] = (20.0, 8.0)\n",
    "plt.plot_date(time_lev,temp_mod_interp[0,:])\n",
    "plt.plot_date(time_lev,temp_obs_interp[0,:],'r.')\n",
    "plt.xlabel('time_lev')\n",
    "plt.title('Surface temperatures - interpolated')\n",
    "plt.legend(['temp_mod_interp','temp_obs_interp'],loc='best')\n"
   ]
  },
  {
   "cell_type": "markdown",
   "metadata": {},
   "source": []
  },
  {
   "cell_type": "code",
   "execution_count": null,
   "metadata": {
    "collapsed": false
   },
   "outputs": [],
   "source": []
  },
  {
   "cell_type": "code",
   "execution_count": null,
   "metadata": {
    "collapsed": true
   },
   "outputs": [],
   "source": []
  }
 ],
 "metadata": {
  "kernelspec": {
   "display_name": "Python 2",
   "language": "python",
   "name": "python2"
  },
  "language_info": {
   "codemirror_mode": {
    "name": "ipython",
    "version": 2
   },
   "file_extension": ".py",
   "mimetype": "text/x-python",
   "name": "python",
   "nbconvert_exporter": "python",
   "pygments_lexer": "ipython2",
   "version": "2.7.10"
  }
 },
 "nbformat": 4,
 "nbformat_minor": 0
}
